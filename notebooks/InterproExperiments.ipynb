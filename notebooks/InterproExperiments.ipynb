{
 "cells": [
  {
   "cell_type": "code",
   "execution_count": 2,
   "metadata": {
    "collapsed": true
   },
   "outputs": [],
   "source": [
    "import matplotlib.pyplot as plt\n",
    "import pandas as pd\n",
    "import numpy as np\n",
    "from sklearn.neighbors import KNeighborsClassifier\n",
    "import seaborn as sns"
   ]
  },
  {
   "cell_type": "code",
   "execution_count": null,
   "metadata": {
    "collapsed": true
   },
   "outputs": [],
   "source": []
  },
  {
   "cell_type": "code",
   "execution_count": 3,
   "metadata": {},
   "outputs": [
    {
     "data": {
      "text/plain": [
       "<Element 'interprodb' at 0x1109c3f48>"
      ]
     },
     "execution_count": 3,
     "metadata": {},
     "output_type": "execute_result"
    }
   ],
   "source": [
    "import xml.etree.ElementTree as ET\n",
    "tree = ET.parse('../data/features/interpro/interpro.xml')\n",
    "root = tree.getroot()\n",
    "root"
   ]
  },
  {
   "cell_type": "code",
   "execution_count": 4,
   "metadata": {},
   "outputs": [
    {
     "data": {
      "text/plain": [
       "{'id': 'IPR000001',\n",
       " 'protein_count': '3887',\n",
       " 'short_name': 'Kringle',\n",
       " 'type': 'Domain'}"
      ]
     },
     "execution_count": 4,
     "metadata": {},
     "output_type": "execute_result"
    }
   ],
   "source": [
    "item = root[1]\n",
    "item.attrib"
   ]
  },
  {
   "cell_type": "code",
   "execution_count": 5,
   "metadata": {
    "collapsed": true
   },
   "outputs": [],
   "source": [
    "def get_item_pfams(item):\n",
    "    member_list = item.find('member_list')\n",
    "    return list(set([xref.get('dbkey') for xref in member_list if xref.get('db') == 'PFAM']))"
   ]
  },
  {
   "cell_type": "code",
   "execution_count": 6,
   "metadata": {
    "collapsed": true
   },
   "outputs": [],
   "source": [
    "items = root.findall('interpro')"
   ]
  },
  {
   "cell_type": "code",
   "execution_count": 7,
   "metadata": {
    "collapsed": true
   },
   "outputs": [],
   "source": [
    "pfam_lists = [get_item_pfams(item) for item in items]"
   ]
  },
  {
   "cell_type": "code",
   "execution_count": 8,
   "metadata": {
    "collapsed": true
   },
   "outputs": [],
   "source": [
    "ids = [item.get('id') for item in items] "
   ]
  },
  {
   "cell_type": "code",
   "execution_count": 9,
   "metadata": {},
   "outputs": [
    {
     "data": {
      "text/plain": [
       "IPR017896    13\n",
       "IPR000182     6\n",
       "IPR002048     5\n",
       "IPR012336     5\n",
       "IPR025668     5\n",
       "IPR024311     5\n",
       "IPR001841     5\n",
       "IPR002885     4\n",
       "IPR009959     4\n",
       "IPR001357     4\n",
       "dtype: int64"
      ]
     },
     "execution_count": 9,
     "metadata": {},
     "output_type": "execute_result"
    }
   ],
   "source": [
    "pd.Series([len(p) for p in pfam_lists], ids).sort_values(ascending=False)[:10]"
   ]
  },
  {
   "cell_type": "code",
   "execution_count": 22,
   "metadata": {},
   "outputs": [
    {
     "data": {
      "text/plain": [
       "'metal ion binding'"
      ]
     },
     "execution_count": 22,
     "metadata": {},
     "output_type": "execute_result"
    }
   ],
   "source": [
    "items[2].find('class_list')[0].find('description').text"
   ]
  },
  {
   "cell_type": "code",
   "execution_count": 23,
   "metadata": {
    "collapsed": true
   },
   "outputs": [],
   "source": [
    "def get_item_classes(item):\n",
    "    classes = item.find('class_list') or []\n",
    "    return list(set([c.find('description').text for c in classes]))"
   ]
  },
  {
   "cell_type": "code",
   "execution_count": 24,
   "metadata": {},
   "outputs": [],
   "source": [
    "classes_lists = [get_item_classes(item) for item in items]"
   ]
  },
  {
   "cell_type": "code",
   "execution_count": 33,
   "metadata": {
    "collapsed": true
   },
   "outputs": [],
   "source": [
    "classes_merged = pd.Series([c for classes in classes_lists for c in classes])"
   ]
  },
  {
   "cell_type": "code",
   "execution_count": 56,
   "metadata": {},
   "outputs": [
    {
     "data": {
      "text/plain": [
       "integral component of membrane                                  1089\n",
       "oxidation-reduction process                                      807\n",
       "DNA binding                                                      652\n",
       "membrane                                                         633\n",
       "ATP binding                                                      585\n",
       "nucleus                                                          495\n",
       "regulation of transcription, DNA-templated                       483\n",
       "cytoplasm                                                        441\n",
       "extracellular region                                             399\n",
       "G-protein coupled receptor signaling pathway                     287\n",
       "RNA binding                                                      285\n",
       "structural constituent of ribosome                               274\n",
       "translation                                                      266\n",
       "transcription factor activity, sequence-specific DNA binding     253\n",
       "zinc ion binding                                                 225\n",
       "ribosome                                                         225\n",
       "proteolysis                                                      208\n",
       "intracellular                                                    191\n",
       "transport                                                        174\n",
       "oxidoreductase activity                                          171\n",
       "pathogenesis                                                     168\n",
       "carbohydrate metabolic process                                   163\n",
       "protein binding                                                  159\n",
       "structural molecule activity                                     158\n",
       "DNA repair                                                       148\n",
       "catalytic activity                                               138\n",
       "calcium ion binding                                              130\n",
       "metal ion binding                                                126\n",
       "integral component of plasma membrane                            124\n",
       "transcription, DNA-templated                                     124\n",
       "dtype: int64"
      ]
     },
     "execution_count": 56,
     "metadata": {},
     "output_type": "execute_result"
    }
   ],
   "source": [
    "top_classes = classes_merged.value_counts(ascending=False)[:30]\n",
    "top_classes"
   ]
  },
  {
   "cell_type": "code",
   "execution_count": 57,
   "metadata": {},
   "outputs": [
    {
     "data": {
      "text/html": [
       "<div>\n",
       "<style>\n",
       "    .dataframe thead tr:only-child th {\n",
       "        text-align: right;\n",
       "    }\n",
       "\n",
       "    .dataframe thead th {\n",
       "        text-align: left;\n",
       "    }\n",
       "\n",
       "    .dataframe tbody tr th {\n",
       "        vertical-align: top;\n",
       "    }\n",
       "</style>\n",
       "<table border=\"1\" class=\"dataframe\">\n",
       "  <thead>\n",
       "    <tr style=\"text-align: right;\">\n",
       "      <th></th>\n",
       "      <th>classes</th>\n",
       "      <th>integral component of membrane</th>\n",
       "      <th>oxidation-reduction process</th>\n",
       "      <th>DNA binding</th>\n",
       "      <th>membrane</th>\n",
       "      <th>ATP binding</th>\n",
       "      <th>nucleus</th>\n",
       "      <th>regulation of transcription, DNA-templated</th>\n",
       "      <th>cytoplasm</th>\n",
       "      <th>extracellular region</th>\n",
       "      <th>...</th>\n",
       "      <th>pathogenesis</th>\n",
       "      <th>carbohydrate metabolic process</th>\n",
       "      <th>protein binding</th>\n",
       "      <th>structural molecule activity</th>\n",
       "      <th>DNA repair</th>\n",
       "      <th>catalytic activity</th>\n",
       "      <th>calcium ion binding</th>\n",
       "      <th>metal ion binding</th>\n",
       "      <th>integral component of plasma membrane</th>\n",
       "      <th>transcription, DNA-templated</th>\n",
       "    </tr>\n",
       "    <tr>\n",
       "      <th>pfam_id</th>\n",
       "      <th></th>\n",
       "      <th></th>\n",
       "      <th></th>\n",
       "      <th></th>\n",
       "      <th></th>\n",
       "      <th></th>\n",
       "      <th></th>\n",
       "      <th></th>\n",
       "      <th></th>\n",
       "      <th></th>\n",
       "      <th></th>\n",
       "      <th></th>\n",
       "      <th></th>\n",
       "      <th></th>\n",
       "      <th></th>\n",
       "      <th></th>\n",
       "      <th></th>\n",
       "      <th></th>\n",
       "      <th></th>\n",
       "      <th></th>\n",
       "      <th></th>\n",
       "    </tr>\n",
       "  </thead>\n",
       "  <tbody>\n",
       "    <tr>\n",
       "      <th>PF00001</th>\n",
       "      <td>integral component of membrane;G-protein coupl...</td>\n",
       "      <td>1.0</td>\n",
       "      <td>0.0</td>\n",
       "      <td>0.0</td>\n",
       "      <td>0.0</td>\n",
       "      <td>0.0</td>\n",
       "      <td>0.0</td>\n",
       "      <td>0.0</td>\n",
       "      <td>0.0</td>\n",
       "      <td>0.0</td>\n",
       "      <td>...</td>\n",
       "      <td>0.0</td>\n",
       "      <td>0.0</td>\n",
       "      <td>0.0</td>\n",
       "      <td>0.0</td>\n",
       "      <td>0.0</td>\n",
       "      <td>0.0</td>\n",
       "      <td>0.0</td>\n",
       "      <td>0.0</td>\n",
       "      <td>0.0</td>\n",
       "      <td>0.0</td>\n",
       "    </tr>\n",
       "    <tr>\n",
       "      <th>PF00002</th>\n",
       "      <td>integral component of membrane;G-protein coupl...</td>\n",
       "      <td>1.0</td>\n",
       "      <td>0.0</td>\n",
       "      <td>0.0</td>\n",
       "      <td>0.0</td>\n",
       "      <td>0.0</td>\n",
       "      <td>0.0</td>\n",
       "      <td>0.0</td>\n",
       "      <td>0.0</td>\n",
       "      <td>0.0</td>\n",
       "      <td>...</td>\n",
       "      <td>0.0</td>\n",
       "      <td>0.0</td>\n",
       "      <td>0.0</td>\n",
       "      <td>0.0</td>\n",
       "      <td>0.0</td>\n",
       "      <td>0.0</td>\n",
       "      <td>0.0</td>\n",
       "      <td>0.0</td>\n",
       "      <td>0.0</td>\n",
       "      <td>0.0</td>\n",
       "    </tr>\n",
       "    <tr>\n",
       "      <th>PF00003</th>\n",
       "      <td>integral component of membrane;G-protein coupl...</td>\n",
       "      <td>1.0</td>\n",
       "      <td>0.0</td>\n",
       "      <td>0.0</td>\n",
       "      <td>0.0</td>\n",
       "      <td>0.0</td>\n",
       "      <td>0.0</td>\n",
       "      <td>0.0</td>\n",
       "      <td>0.0</td>\n",
       "      <td>0.0</td>\n",
       "      <td>...</td>\n",
       "      <td>0.0</td>\n",
       "      <td>0.0</td>\n",
       "      <td>0.0</td>\n",
       "      <td>0.0</td>\n",
       "      <td>0.0</td>\n",
       "      <td>0.0</td>\n",
       "      <td>0.0</td>\n",
       "      <td>0.0</td>\n",
       "      <td>0.0</td>\n",
       "      <td>0.0</td>\n",
       "    </tr>\n",
       "    <tr>\n",
       "      <th>PF00004</th>\n",
       "      <td>ATP binding</td>\n",
       "      <td>0.0</td>\n",
       "      <td>0.0</td>\n",
       "      <td>0.0</td>\n",
       "      <td>0.0</td>\n",
       "      <td>1.0</td>\n",
       "      <td>0.0</td>\n",
       "      <td>0.0</td>\n",
       "      <td>0.0</td>\n",
       "      <td>0.0</td>\n",
       "      <td>...</td>\n",
       "      <td>0.0</td>\n",
       "      <td>0.0</td>\n",
       "      <td>0.0</td>\n",
       "      <td>0.0</td>\n",
       "      <td>0.0</td>\n",
       "      <td>0.0</td>\n",
       "      <td>0.0</td>\n",
       "      <td>0.0</td>\n",
       "      <td>0.0</td>\n",
       "      <td>0.0</td>\n",
       "    </tr>\n",
       "    <tr>\n",
       "      <th>PF00005</th>\n",
       "      <td>ATPase activity;ATP binding</td>\n",
       "      <td>0.0</td>\n",
       "      <td>0.0</td>\n",
       "      <td>0.0</td>\n",
       "      <td>0.0</td>\n",
       "      <td>1.0</td>\n",
       "      <td>0.0</td>\n",
       "      <td>0.0</td>\n",
       "      <td>0.0</td>\n",
       "      <td>0.0</td>\n",
       "      <td>...</td>\n",
       "      <td>0.0</td>\n",
       "      <td>0.0</td>\n",
       "      <td>0.0</td>\n",
       "      <td>0.0</td>\n",
       "      <td>0.0</td>\n",
       "      <td>0.0</td>\n",
       "      <td>0.0</td>\n",
       "      <td>0.0</td>\n",
       "      <td>0.0</td>\n",
       "      <td>0.0</td>\n",
       "    </tr>\n",
       "  </tbody>\n",
       "</table>\n",
       "<p>5 rows × 31 columns</p>\n",
       "</div>"
      ],
      "text/plain": [
       "                                                   classes  \\\n",
       "pfam_id                                                      \n",
       "PF00001  integral component of membrane;G-protein coupl...   \n",
       "PF00002  integral component of membrane;G-protein coupl...   \n",
       "PF00003  integral component of membrane;G-protein coupl...   \n",
       "PF00004                                        ATP binding   \n",
       "PF00005                        ATPase activity;ATP binding   \n",
       "\n",
       "         integral component of membrane  oxidation-reduction process  \\\n",
       "pfam_id                                                                \n",
       "PF00001                             1.0                          0.0   \n",
       "PF00002                             1.0                          0.0   \n",
       "PF00003                             1.0                          0.0   \n",
       "PF00004                             0.0                          0.0   \n",
       "PF00005                             0.0                          0.0   \n",
       "\n",
       "         DNA binding  membrane  ATP binding  nucleus  \\\n",
       "pfam_id                                                \n",
       "PF00001          0.0       0.0          0.0      0.0   \n",
       "PF00002          0.0       0.0          0.0      0.0   \n",
       "PF00003          0.0       0.0          0.0      0.0   \n",
       "PF00004          0.0       0.0          1.0      0.0   \n",
       "PF00005          0.0       0.0          1.0      0.0   \n",
       "\n",
       "         regulation of transcription, DNA-templated  cytoplasm  \\\n",
       "pfam_id                                                          \n",
       "PF00001                                         0.0        0.0   \n",
       "PF00002                                         0.0        0.0   \n",
       "PF00003                                         0.0        0.0   \n",
       "PF00004                                         0.0        0.0   \n",
       "PF00005                                         0.0        0.0   \n",
       "\n",
       "         extracellular region              ...               pathogenesis  \\\n",
       "pfam_id                                    ...                              \n",
       "PF00001                   0.0              ...                        0.0   \n",
       "PF00002                   0.0              ...                        0.0   \n",
       "PF00003                   0.0              ...                        0.0   \n",
       "PF00004                   0.0              ...                        0.0   \n",
       "PF00005                   0.0              ...                        0.0   \n",
       "\n",
       "         carbohydrate metabolic process  protein binding  \\\n",
       "pfam_id                                                    \n",
       "PF00001                             0.0              0.0   \n",
       "PF00002                             0.0              0.0   \n",
       "PF00003                             0.0              0.0   \n",
       "PF00004                             0.0              0.0   \n",
       "PF00005                             0.0              0.0   \n",
       "\n",
       "         structural molecule activity  DNA repair  catalytic activity  \\\n",
       "pfam_id                                                                 \n",
       "PF00001                           0.0         0.0                 0.0   \n",
       "PF00002                           0.0         0.0                 0.0   \n",
       "PF00003                           0.0         0.0                 0.0   \n",
       "PF00004                           0.0         0.0                 0.0   \n",
       "PF00005                           0.0         0.0                 0.0   \n",
       "\n",
       "         calcium ion binding  metal ion binding  \\\n",
       "pfam_id                                           \n",
       "PF00001                  0.0                0.0   \n",
       "PF00002                  0.0                0.0   \n",
       "PF00003                  0.0                0.0   \n",
       "PF00004                  0.0                0.0   \n",
       "PF00005                  0.0                0.0   \n",
       "\n",
       "         integral component of plasma membrane  transcription, DNA-templated  \n",
       "pfam_id                                                                       \n",
       "PF00001                                    0.0                           0.0  \n",
       "PF00002                                    0.0                           0.0  \n",
       "PF00003                                    0.0                           0.0  \n",
       "PF00004                                    0.0                           0.0  \n",
       "PF00005                                    0.0                           0.0  \n",
       "\n",
       "[5 rows x 31 columns]"
      ]
     },
     "execution_count": 57,
     "metadata": {},
     "output_type": "execute_result"
    }
   ],
   "source": [
    "props = []\n",
    "for classes, pfam_ids in zip(classes_lists, pfam_lists):\n",
    "    for pfam_id in pfam_ids:\n",
    "        prop = {\n",
    "            'pfam_id': pfam_id, \n",
    "            'classes': ';'.join(classes)\n",
    "        }\n",
    "        for c in top_classes.index:\n",
    "            prop[c] = int(c in classes) if classes else None\n",
    "        props.append(prop)\n",
    "props = pd.DataFrame(props).set_index('pfam_id').sort_index()\n",
    "props = props[['classes']+list(top_classes.index)]\n",
    "props.head()"
   ]
  },
  {
   "cell_type": "code",
   "execution_count": 58,
   "metadata": {
    "collapsed": true
   },
   "outputs": [],
   "source": [
    "props.to_csv('../data/features/interpro/interpro_props.csv', index=True)"
   ]
  },
  {
   "cell_type": "code",
   "execution_count": null,
   "metadata": {
    "collapsed": true
   },
   "outputs": [],
   "source": []
  }
 ],
 "metadata": {
  "kernelspec": {
   "display_name": "Python 3",
   "language": "python",
   "name": "python3"
  },
  "language_info": {
   "codemirror_mode": {
    "name": "ipython",
    "version": 3
   },
   "file_extension": ".py",
   "mimetype": "text/x-python",
   "name": "python",
   "nbconvert_exporter": "python",
   "pygments_lexer": "ipython3",
   "version": "3.6.3"
  }
 },
 "nbformat": 4,
 "nbformat_minor": 2
}
