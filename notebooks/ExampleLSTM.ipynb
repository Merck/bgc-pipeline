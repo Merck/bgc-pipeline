{
 "cells": [
  {
   "cell_type": "code",
   "execution_count": 1,
   "metadata": {
    "collapsed": true
   },
   "outputs": [],
   "source": [
    "import matplotlib.pyplot as plt\n",
    "import pandas as pd\n",
    "import numpy as np\n",
    "plt.style.use('ggplot')\n",
    "%matplotlib inline\n",
    "\n",
    "np.random.seed(0)"
   ]
  },
  {
   "cell_type": "code",
   "execution_count": 2,
   "metadata": {},
   "outputs": [
    {
     "name": "stderr",
     "output_type": "stream",
     "text": [
      "/Users/prihodad/anaconda3/lib/python3.6/site-packages/h5py/__init__.py:34: FutureWarning: Conversion of the second argument of issubdtype from `float` to `np.floating` is deprecated. In future, it will be treated as `np.float64 == np.dtype(float).type`.\n",
      "  from ._conv import register_converters as _register_converters\n",
      "Using TensorFlow backend.\n"
     ]
    }
   ],
   "source": [
    "import keras\n",
    "from keras.models import Sequential\n",
    "from keras.layers.wrappers import TimeDistributed, Bidirectional\n",
    "from keras.layers.recurrent import GRU, LSTM\n",
    "from keras.layers.core import Dense\n",
    "import keras.backend as K\n",
    "from keras.utils import np_utils"
   ]
  },
  {
   "cell_type": "code",
   "execution_count": 3,
   "metadata": {
    "collapsed": true
   },
   "outputs": [],
   "source": [
    "batch_size = 4\n",
    "timesteps = 16\n",
    "num_features = 3"
   ]
  },
  {
   "cell_type": "code",
   "execution_count": 4,
   "metadata": {
    "collapsed": true
   },
   "outputs": [],
   "source": [
    "model = Sequential()\n",
    "\n",
    "model.add(Bidirectional(\n",
    "    layer=LSTM(\n",
    "        units=100,\n",
    "        return_sequences=True,\n",
    "        dropout=0.2,\n",
    "        recurrent_dropout=0.2,\n",
    "        stateful=True\n",
    "    ),\n",
    "    batch_input_shape=(batch_size, timesteps, num_features)\n",
    "))\n",
    "model.add(TimeDistributed(Dense(1, activation='sigmoid')))\n",
    "\n",
    "model.compile(loss='binary_crossentropy', optimizer=\"adam\", metrics=[\"accuracy\"])"
   ]
  },
  {
   "cell_type": "code",
   "execution_count": 5,
   "metadata": {
    "collapsed": true
   },
   "outputs": [],
   "source": [
    "def get_samples(num_samples, batch_size, timesteps, num_features):\n",
    "    v = np.random.randint(0, num_features, num_samples)\n",
    "    X = np_utils.to_categorical(v.reshape(-1, 1), num_features)\n",
    "\n",
    "    X = X.reshape(-1, timesteps, num_features)\n",
    "    #y = (v == 2).astype(np.int).reshape(-1, timesteps, 1)\n",
    "    two_is_next = np.append((v[1:] == 2).astype(np.int), 0)\n",
    "    zero_is_now = (v == 0).astype(np.int)\n",
    "    y = two_is_next & zero_is_now\n",
    "    y = y.reshape(-1, timesteps, 1)\n",
    "    return X, y"
   ]
  },
  {
   "cell_type": "code",
   "execution_count": 6,
   "metadata": {},
   "outputs": [
    {
     "name": "stdout",
     "output_type": "stream",
     "text": [
      "X:  (128, 16, 3)\n",
      "Y:  (128, 16, 1)\n",
      "First batch element:\n"
     ]
    },
    {
     "data": {
      "text/plain": [
       "[(array([0., 1., 0.], dtype=float32), array([0])),\n",
       " (array([0., 0., 1.], dtype=float32), array([0])),\n",
       " (array([1., 0., 0.], dtype=float32), array([1])),\n",
       " (array([0., 0., 1.], dtype=float32), array([0])),\n",
       " (array([0., 1., 0.], dtype=float32), array([0])),\n",
       " (array([0., 0., 1.], dtype=float32), array([0])),\n",
       " (array([1., 0., 0.], dtype=float32), array([0])),\n",
       " (array([1., 0., 0.], dtype=float32), array([0])),\n",
       " (array([1., 0., 0.], dtype=float32), array([1])),\n",
       " (array([0., 0., 1.], dtype=float32), array([0])),\n",
       " (array([0., 0., 1.], dtype=float32), array([0])),\n",
       " (array([0., 0., 1.], dtype=float32), array([0])),\n",
       " (array([0., 1., 0.], dtype=float32), array([0])),\n",
       " (array([1., 0., 0.], dtype=float32), array([0])),\n",
       " (array([1., 0., 0.], dtype=float32), array([0])),\n",
       " (array([0., 1., 0.], dtype=float32), array([0]))]"
      ]
     },
     "execution_count": 6,
     "metadata": {},
     "output_type": "execute_result"
    }
   ],
   "source": [
    "X, y = get_samples(2048, batch_size, timesteps, num_features)\n",
    "print('X: ', X.shape)\n",
    "print('Y: ', y.shape)\n",
    "print('First batch element:')\n",
    "[v for v in zip(X[0], y[0])]"
   ]
  },
  {
   "cell_type": "code",
   "execution_count": 7,
   "metadata": {
    "collapsed": true
   },
   "outputs": [],
   "source": [
    "X_val, y_val = get_samples(1024, batch_size, timesteps, num_features)"
   ]
  },
  {
   "cell_type": "code",
   "execution_count": 8,
   "metadata": {
    "scrolled": false
   },
   "outputs": [
    {
     "name": "stdout",
     "output_type": "stream",
     "text": [
      "Train on 128 samples, validate on 64 samples\n",
      "Epoch 1/5\n",
      "128/128 [==============================] - 2s 13ms/step - loss: 0.4374 - acc: 0.8564 - val_loss: 0.3397 - val_acc: 0.8955\n",
      "Epoch 2/5\n",
      "128/128 [==============================] - 0s 4ms/step - loss: 0.3309 - acc: 0.8945 - val_loss: 0.3172 - val_acc: 0.8955\n",
      "Epoch 3/5\n",
      "128/128 [==============================] - 0s 4ms/step - loss: 0.3140 - acc: 0.8945 - val_loss: 0.3078 - val_acc: 0.8955\n",
      "Epoch 4/5\n",
      "128/128 [==============================] - 0s 4ms/step - loss: 0.2937 - acc: 0.8945 - val_loss: 0.2743 - val_acc: 0.8955\n",
      "Epoch 5/5\n",
      "128/128 [==============================] - 0s 4ms/step - loss: 0.2513 - acc: 0.8955 - val_loss: 0.2012 - val_acc: 0.8984\n"
     ]
    },
    {
     "data": {
      "text/plain": [
       "<keras.callbacks.History at 0x182ca0a550>"
      ]
     },
     "execution_count": 8,
     "metadata": {},
     "output_type": "execute_result"
    }
   ],
   "source": [
    "model.fit(X, y, epochs=5, batch_size=batch_size, validation_data=(X_val, y_val))"
   ]
  },
  {
   "cell_type": "code",
   "execution_count": 9,
   "metadata": {
    "collapsed": true
   },
   "outputs": [],
   "source": [
    "from sklearn.metrics import roc_curve, auc\n",
    "\n",
    "def plot_roc_curve(true_values, predictions, ax=None, title='ROC', label='ROC', lw=1, **kwargs):\n",
    "    fpr, tpr, _ = roc_curve(true_values, predictions)\n",
    "    roc_auc = auc(fpr, tpr)\n",
    "    if ax is None:\n",
    "        fig, ax = plt.subplots(1, 1, figsize=(6, 5))\n",
    "\n",
    "    ax.plot([0, 1], [0, 1], color='grey', lw=1, linestyle='--')\n",
    "    ax.plot(fpr, tpr, lw=lw, label=label + ': {:.3f} AUC'.format(roc_auc), **kwargs)\n",
    "    ax.set_title(title)\n",
    "    ax.set_xlabel('FPR')\n",
    "    ax.set_ylabel('TPR')\n",
    "    ax.legend(loc='lower right')\n",
    "    return ax"
   ]
  },
  {
   "cell_type": "code",
   "execution_count": 10,
   "metadata": {
    "collapsed": true
   },
   "outputs": [],
   "source": [
    "X_test, y_test = get_samples(512, batch_size, timesteps, num_features)\n",
    "pred = model.predict(X_test, batch_size=batch_size)"
   ]
  },
  {
   "cell_type": "code",
   "execution_count": 12,
   "metadata": {},
   "outputs": [
    {
     "data": {
      "text/plain": [
       "<matplotlib.axes._subplots.AxesSubplot at 0x182cd11da0>"
      ]
     },
     "execution_count": 12,
     "metadata": {},
     "output_type": "execute_result"
    },
    {
     "data": {
      "image/png": "[encoded data removed]",
      "text/plain": [
       "<Figure size 432x360 with 1 Axes>"
      ]
     },
     "metadata": {},
     "output_type": "display_data"
    }
   ],
   "source": [
    "plot_roc_curve(y_test.flatten(), pred.flatten())"
   ]
  },
  {
   "cell_type": "code",
   "execution_count": null,
   "metadata": {
    "collapsed": true
   },
   "outputs": [],
   "source": []
  }
 ],
 "metadata": {
  "kernelspec": {
   "display_name": "Python 3",
   "language": "python",
   "name": "python3"
  },
  "language_info": {
   "codemirror_mode": {
    "name": "ipython",
    "version": 3
   },
   "file_extension": ".py",
   "mimetype": "text/x-python",
   "name": "python",
   "nbconvert_exporter": "python",
   "pygments_lexer": "ipython3",
   "version": "3.6.3"
  }
 },
 "nbformat": 4,
 "nbformat_minor": 2
}
