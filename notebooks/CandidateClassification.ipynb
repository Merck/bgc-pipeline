{
 "cells": [
  {
   "cell_type": "code",
   "execution_count": 1,
   "metadata": {
    "collapsed": true
   },
   "outputs": [],
   "source": [
    "import matplotlib.pyplot as plt\n",
    "import pandas as pd\n",
    "import numpy as np\n",
    "import sys\n",
    "from sklearn.neighbors import KNeighborsClassifier\n",
    "from sklearn.ensemble import RandomForestClassifier\n",
    "from sklearn.model_selection import GridSearchCV, train_test_split, cross_val_score, ShuffleSplit, KFold\n",
    "from sklearn import metrics\n",
    "import seaborn as sns\n",
    "import pickle\n",
    "pd.options.display.float_format = '{:,.3f}'.format\n",
    "\n",
    "import matplotlib\n",
    "font = {'family' : 'Arial', 'size'   : 12}\n",
    "matplotlib.rc('font', **font)"
   ]
  },
  {
   "cell_type": "code",
   "execution_count": 2,
   "metadata": {
    "collapsed": true
   },
   "outputs": [],
   "source": [
    "def get_samples(vectors):\n",
    "    if vectors == 'pfam-dst':\n",
    "        return pd.read_csv('../data/training/positive/mibig_bgcs_all.{}.csv'.format(vectors)).set_index('contig_id')\n",
    "    return pd.read_pickle(\"../data/training/positive/mibig_bgcs_all.{}.pkl\".format(vectors))"
   ]
  },
  {
   "cell_type": "code",
   "execution_count": 3,
   "metadata": {
    "collapsed": true
   },
   "outputs": [],
   "source": [
    "def get_sample_responses(vectors, responses):\n",
    "    samples = get_samples(vectors)\n",
    "    responses = responses.loc[samples.index].dropna()\n",
    "    samples = samples.loc[responses.index]\n",
    "    return samples, responses"
   ]
  },
  {
   "cell_type": "markdown",
   "metadata": {},
   "source": [
    "# Candidate classification: Multilabel and multiclass method evaluation\n",
    "\n",
    "## Problem specification\n",
    "\n",
    "Predict biosynthetic classes of BGC candidates.\n",
    "\n",
    "### Multilabel approach\n",
    "\n",
    "Assign a set of classes (labels) to each BGC candidate\n",
    "\n",
    "Model output is a binary vector:"
   ]
  },
  {
   "cell_type": "code",
   "execution_count": 4,
   "metadata": {},
   "outputs": [
    {
     "data": {
      "text/html": [
       "<div>\n",
       "<style>\n",
       "    .dataframe thead tr:only-child th {\n",
       "        text-align: right;\n",
       "    }\n",
       "\n",
       "    .dataframe thead th {\n",
       "        text-align: left;\n",
       "    }\n",
       "\n",
       "    .dataframe tbody tr th {\n",
       "        vertical-align: top;\n",
       "    }\n",
       "</style>\n",
       "<table border=\"1\" class=\"dataframe\">\n",
       "  <thead>\n",
       "    <tr style=\"text-align: right;\">\n",
       "      <th></th>\n",
       "      <th>Alkaloid</th>\n",
       "      <th>NRP</th>\n",
       "      <th>Other</th>\n",
       "      <th>Polyketide</th>\n",
       "      <th>RiPP</th>\n",
       "      <th>Saccharide</th>\n",
       "      <th>Terpene</th>\n",
       "    </tr>\n",
       "    <tr>\n",
       "      <th>contig_id</th>\n",
       "      <th></th>\n",
       "      <th></th>\n",
       "      <th></th>\n",
       "      <th></th>\n",
       "      <th></th>\n",
       "      <th></th>\n",
       "      <th></th>\n",
       "    </tr>\n",
       "  </thead>\n",
       "  <tbody>\n",
       "    <tr>\n",
       "      <th>BGC0000576.1</th>\n",
       "      <td>0</td>\n",
       "      <td>0</td>\n",
       "      <td>0</td>\n",
       "      <td>0</td>\n",
       "      <td>1</td>\n",
       "      <td>0</td>\n",
       "      <td>0</td>\n",
       "    </tr>\n",
       "    <tr>\n",
       "      <th>BGC0000534.1</th>\n",
       "      <td>0</td>\n",
       "      <td>0</td>\n",
       "      <td>0</td>\n",
       "      <td>0</td>\n",
       "      <td>1</td>\n",
       "      <td>0</td>\n",
       "      <td>0</td>\n",
       "    </tr>\n",
       "    <tr>\n",
       "      <th>BGC0000175.1</th>\n",
       "      <td>0</td>\n",
       "      <td>0</td>\n",
       "      <td>0</td>\n",
       "      <td>1</td>\n",
       "      <td>0</td>\n",
       "      <td>0</td>\n",
       "      <td>0</td>\n",
       "    </tr>\n",
       "    <tr>\n",
       "      <th>BGC0000299.1</th>\n",
       "      <td>0</td>\n",
       "      <td>1</td>\n",
       "      <td>0</td>\n",
       "      <td>0</td>\n",
       "      <td>0</td>\n",
       "      <td>0</td>\n",
       "      <td>0</td>\n",
       "    </tr>\n",
       "    <tr>\n",
       "      <th>BGC0001343.1</th>\n",
       "      <td>0</td>\n",
       "      <td>0</td>\n",
       "      <td>0</td>\n",
       "      <td>1</td>\n",
       "      <td>0</td>\n",
       "      <td>0</td>\n",
       "      <td>0</td>\n",
       "    </tr>\n",
       "  </tbody>\n",
       "</table>\n",
       "</div>"
      ],
      "text/plain": [
       "              Alkaloid  NRP  Other  Polyketide  RiPP  Saccharide  Terpene\n",
       "contig_id                                                                \n",
       "BGC0000576.1         0    0      0           0     1           0        0\n",
       "BGC0000534.1         0    0      0           0     1           0        0\n",
       "BGC0000175.1         0    0      0           1     0           0        0\n",
       "BGC0000299.1         0    1      0           0     0           0        0\n",
       "BGC0001343.1         0    0      0           1     0           0        0"
      ]
     },
     "execution_count": 4,
     "metadata": {},
     "output_type": "execute_result"
    }
   ],
   "source": [
    "labels = pd.read_csv(\"../data/training/positive/mibig_bgcs_all.classes.csv\").set_index('contig_id')\n",
    "labels = labels[~labels['?'].astype(np.bool)]\n",
    "del labels['?']\n",
    "del labels['Nucleoside']\n",
    "labels.sample(5)"
   ]
  },
  {
   "cell_type": "markdown",
   "metadata": {},
   "source": [
    "## Input data"
   ]
  },
  {
   "cell_type": "markdown",
   "metadata": {},
   "source": [
    "### Domain set\n",
    "\n",
    "Binary vector of all pfam IDs found in MIBiG dataset, 1 = pfam is present in sequence, 0 = pfam is not present"
   ]
  },
  {
   "cell_type": "code",
   "execution_count": 5,
   "metadata": {},
   "outputs": [
    {
     "data": {
      "text/html": [
       "<div>\n",
       "<style>\n",
       "    .dataframe thead tr:only-child th {\n",
       "        text-align: right;\n",
       "    }\n",
       "\n",
       "    .dataframe thead th {\n",
       "        text-align: left;\n",
       "    }\n",
       "\n",
       "    .dataframe tbody tr th {\n",
       "        vertical-align: top;\n",
       "    }\n",
       "</style>\n",
       "<table border=\"1\" class=\"dataframe\">\n",
       "  <thead>\n",
       "    <tr style=\"text-align: right;\">\n",
       "      <th>pfam_id</th>\n",
       "      <th>PF00004</th>\n",
       "      <th>PF00005</th>\n",
       "      <th>PF00006</th>\n",
       "      <th>PF00009</th>\n",
       "      <th>PF00010</th>\n",
       "      <th>PF00011</th>\n",
       "      <th>PF00012</th>\n",
       "      <th>PF00013</th>\n",
       "      <th>PF00015</th>\n",
       "      <th>PF00022</th>\n",
       "      <th>...</th>\n",
       "      <th>PF17387</th>\n",
       "      <th>PF17389</th>\n",
       "      <th>PF17390</th>\n",
       "      <th>PF17391</th>\n",
       "      <th>PF17392</th>\n",
       "      <th>PF17414</th>\n",
       "      <th>PF17425</th>\n",
       "      <th>PF17508</th>\n",
       "      <th>PF17584</th>\n",
       "      <th>PF17608</th>\n",
       "    </tr>\n",
       "    <tr>\n",
       "      <th>contig_id</th>\n",
       "      <th></th>\n",
       "      <th></th>\n",
       "      <th></th>\n",
       "      <th></th>\n",
       "      <th></th>\n",
       "      <th></th>\n",
       "      <th></th>\n",
       "      <th></th>\n",
       "      <th></th>\n",
       "      <th></th>\n",
       "      <th></th>\n",
       "      <th></th>\n",
       "      <th></th>\n",
       "      <th></th>\n",
       "      <th></th>\n",
       "      <th></th>\n",
       "      <th></th>\n",
       "      <th></th>\n",
       "      <th></th>\n",
       "      <th></th>\n",
       "      <th></th>\n",
       "    </tr>\n",
       "  </thead>\n",
       "  <tbody>\n",
       "    <tr>\n",
       "      <th>BGC0000001.1</th>\n",
       "      <td>0</td>\n",
       "      <td>1</td>\n",
       "      <td>0</td>\n",
       "      <td>0</td>\n",
       "      <td>0</td>\n",
       "      <td>0</td>\n",
       "      <td>0</td>\n",
       "      <td>0</td>\n",
       "      <td>0</td>\n",
       "      <td>0</td>\n",
       "      <td>...</td>\n",
       "      <td>0</td>\n",
       "      <td>0</td>\n",
       "      <td>0</td>\n",
       "      <td>0</td>\n",
       "      <td>0</td>\n",
       "      <td>0</td>\n",
       "      <td>0</td>\n",
       "      <td>0</td>\n",
       "      <td>0</td>\n",
       "      <td>0</td>\n",
       "    </tr>\n",
       "    <tr>\n",
       "      <th>BGC0000002.1</th>\n",
       "      <td>0</td>\n",
       "      <td>1</td>\n",
       "      <td>0</td>\n",
       "      <td>0</td>\n",
       "      <td>0</td>\n",
       "      <td>0</td>\n",
       "      <td>0</td>\n",
       "      <td>0</td>\n",
       "      <td>0</td>\n",
       "      <td>0</td>\n",
       "      <td>...</td>\n",
       "      <td>0</td>\n",
       "      <td>0</td>\n",
       "      <td>0</td>\n",
       "      <td>0</td>\n",
       "      <td>0</td>\n",
       "      <td>0</td>\n",
       "      <td>0</td>\n",
       "      <td>0</td>\n",
       "      <td>0</td>\n",
       "      <td>0</td>\n",
       "    </tr>\n",
       "    <tr>\n",
       "      <th>BGC0000003.1</th>\n",
       "      <td>0</td>\n",
       "      <td>0</td>\n",
       "      <td>0</td>\n",
       "      <td>0</td>\n",
       "      <td>0</td>\n",
       "      <td>0</td>\n",
       "      <td>0</td>\n",
       "      <td>0</td>\n",
       "      <td>0</td>\n",
       "      <td>0</td>\n",
       "      <td>...</td>\n",
       "      <td>0</td>\n",
       "      <td>0</td>\n",
       "      <td>0</td>\n",
       "      <td>0</td>\n",
       "      <td>0</td>\n",
       "      <td>0</td>\n",
       "      <td>0</td>\n",
       "      <td>0</td>\n",
       "      <td>0</td>\n",
       "      <td>0</td>\n",
       "    </tr>\n",
       "  </tbody>\n",
       "</table>\n",
       "<p>3 rows × 3294 columns</p>\n",
       "</div>"
      ],
      "text/plain": [
       "pfam_id       PF00004  PF00005  PF00006  PF00009  PF00010  PF00011  PF00012  \\\n",
       "contig_id                                                                     \n",
       "BGC0000001.1        0        1        0        0        0        0        0   \n",
       "BGC0000002.1        0        1        0        0        0        0        0   \n",
       "BGC0000003.1        0        0        0        0        0        0        0   \n",
       "\n",
       "pfam_id       PF00013  PF00015  PF00022   ...     PF17387  PF17389  PF17390  \\\n",
       "contig_id                                 ...                                 \n",
       "BGC0000001.1        0        0        0   ...           0        0        0   \n",
       "BGC0000002.1        0        0        0   ...           0        0        0   \n",
       "BGC0000003.1        0        0        0   ...           0        0        0   \n",
       "\n",
       "pfam_id       PF17391  PF17392  PF17414  PF17425  PF17508  PF17584  PF17608  \n",
       "contig_id                                                                    \n",
       "BGC0000001.1        0        0        0        0        0        0        0  \n",
       "BGC0000002.1        0        0        0        0        0        0        0  \n",
       "BGC0000003.1        0        0        0        0        0        0        0  \n",
       "\n",
       "[3 rows x 3294 columns]"
      ]
     },
     "execution_count": 5,
     "metadata": {},
     "output_type": "execute_result"
    }
   ],
   "source": [
    "get_samples('domain_set').head(3)"
   ]
  },
  {
   "cell_type": "code",
   "execution_count": 6,
   "metadata": {
    "collapsed": true
   },
   "outputs": [],
   "source": [
    "all_ml_samples, all_ml_responses = get_sample_responses('domain_set', labels)"
   ]
  },
  {
   "cell_type": "markdown",
   "metadata": {},
   "source": [
    "# AntiSMASH classification"
   ]
  },
  {
   "cell_type": "code",
   "execution_count": 7,
   "metadata": {},
   "outputs": [
    {
     "data": {
      "text/html": [
       "<div>\n",
       "<style>\n",
       "    .dataframe thead tr:only-child th {\n",
       "        text-align: right;\n",
       "    }\n",
       "\n",
       "    .dataframe thead th {\n",
       "        text-align: left;\n",
       "    }\n",
       "\n",
       "    .dataframe tbody tr th {\n",
       "        vertical-align: top;\n",
       "    }\n",
       "</style>\n",
       "<table border=\"1\" class=\"dataframe\">\n",
       "  <thead>\n",
       "    <tr style=\"text-align: right;\">\n",
       "      <th></th>\n",
       "      <th>contig_id</th>\n",
       "      <th>nucl_start</th>\n",
       "      <th>nucl_end</th>\n",
       "      <th>candidate_id</th>\n",
       "      <th>classes</th>\n",
       "      <th>detection_rules</th>\n",
       "      <th>genes</th>\n",
       "      <th>subclusters</th>\n",
       "      <th>NRPSs/PKSs</th>\n",
       "      <th>signature_genes</th>\n",
       "      <th>RiPPs</th>\n",
       "      <th>predicted_structure</th>\n",
       "      <th>monomers</th>\n",
       "    </tr>\n",
       "  </thead>\n",
       "  <tbody>\n",
       "    <tr>\n",
       "      <th>0</th>\n",
       "      <td>BGC0000001.1</td>\n",
       "      <td>0</td>\n",
       "      <td>59320</td>\n",
       "      <td>BGC0000001.1:0-59320</td>\n",
       "      <td>t1pks</td>\n",
       "      <td>t1pks: ((PKS_KS &amp;amp; PKS_AT) or (ene_KS &amp;amp;...</td>\n",
       "      <td>AEK75490.1;AEK75491.1;AEK75492.1;AEK75493.1;AE...</td>\n",
       "      <td>nan</td>\n",
       "      <td>NaN</td>\n",
       "      <td>AEK75493;AEK75497;AEK75499;AEK75502;AEK75503;A...</td>\n",
       "      <td>-</td>\n",
       "      <td>nan</td>\n",
       "      <td>NaN</td>\n",
       "    </tr>\n",
       "    <tr>\n",
       "      <th>1</th>\n",
       "      <td>BGC0000002.1</td>\n",
       "      <td>0</td>\n",
       "      <td>141542</td>\n",
       "      <td>BGC0000002.1:0-141542</td>\n",
       "      <td>oligosaccharide;t1pks</td>\n",
       "      <td>oligosaccharide: (minimum(3,[Glycos_transf_1,G...</td>\n",
       "      <td>AHH99917.1;AHH99918.1;AHH99919.1;AHH99920.1;AH...</td>\n",
       "      <td>nan</td>\n",
       "      <td>NaN</td>\n",
       "      <td>AHH99918;AHH99919;AHH99920;AHH99921;AHH99922;A...</td>\n",
       "      <td>-</td>\n",
       "      <td>nan</td>\n",
       "      <td>NaN</td>\n",
       "    </tr>\n",
       "    <tr>\n",
       "      <th>2</th>\n",
       "      <td>BGC0000003.1</td>\n",
       "      <td>0</td>\n",
       "      <td>37168</td>\n",
       "      <td>BGC0000003.1:0-37168</td>\n",
       "      <td>t1pks</td>\n",
       "      <td>t1pks: ((PKS_KS &amp;amp; PKS_AT) or (ene_KS &amp;amp;...</td>\n",
       "      <td>BAD97694.1;BAD97695.1;BAD97696.1;BAD97697.1;BA...</td>\n",
       "      <td>nan</td>\n",
       "      <td>BAD97694;BAD97699</td>\n",
       "      <td>BAD97694;BAD97696;BAD97699</td>\n",
       "      <td>-</td>\n",
       "      <td>nan</td>\n",
       "      <td>(pk)</td>\n",
       "    </tr>\n",
       "    <tr>\n",
       "      <th>3</th>\n",
       "      <td>BGC0000004.1</td>\n",
       "      <td>0</td>\n",
       "      <td>45060</td>\n",
       "      <td>BGC0000004.1:0-45060</td>\n",
       "      <td>t1pks</td>\n",
       "      <td>t1pks: ((PKS_KS &amp;amp; PKS_AT) or (ene_KS &amp;amp;...</td>\n",
       "      <td>BAE71313.1;BAE71314.1;BAE71315.1;BAE71316.1;BA...</td>\n",
       "      <td>nan</td>\n",
       "      <td>BAE71314;BAE71315;BAE71316;BAE71317</td>\n",
       "      <td>BAE71314;BAE71315;BAE71316;BAE71317</td>\n",
       "      <td>-</td>\n",
       "      <td>nan</td>\n",
       "      <td>(pk) + (mal)</td>\n",
       "    </tr>\n",
       "    <tr>\n",
       "      <th>4</th>\n",
       "      <td>BGC0000006.1</td>\n",
       "      <td>0</td>\n",
       "      <td>43732</td>\n",
       "      <td>BGC0000006.1:0-43732</td>\n",
       "      <td>t1pks</td>\n",
       "      <td>t1pks: ((PKS_KS &amp;amp; PKS_AT) or (ene_KS &amp;amp;...</td>\n",
       "      <td>AAS90092.1;AAS90093.1;AAS90110.1;AAS90111.1;AA...</td>\n",
       "      <td>nan</td>\n",
       "      <td>AAS90093;AAS90110;AAS90111;AAS90095</td>\n",
       "      <td>AAS90093;AAS90110;AAS90111;AAS90095</td>\n",
       "      <td>-</td>\n",
       "      <td>nan</td>\n",
       "      <td>(pk) + (mal)</td>\n",
       "    </tr>\n",
       "  </tbody>\n",
       "</table>\n",
       "</div>"
      ],
      "text/plain": [
       "      contig_id  nucl_start  nucl_end           candidate_id  \\\n",
       "0  BGC0000001.1           0     59320   BGC0000001.1:0-59320   \n",
       "1  BGC0000002.1           0    141542  BGC0000002.1:0-141542   \n",
       "2  BGC0000003.1           0     37168   BGC0000003.1:0-37168   \n",
       "3  BGC0000004.1           0     45060   BGC0000004.1:0-45060   \n",
       "4  BGC0000006.1           0     43732   BGC0000006.1:0-43732   \n",
       "\n",
       "                 classes                                    detection_rules  \\\n",
       "0                  t1pks  t1pks: ((PKS_KS &amp; PKS_AT) or (ene_KS &amp;...   \n",
       "1  oligosaccharide;t1pks  oligosaccharide: (minimum(3,[Glycos_transf_1,G...   \n",
       "2                  t1pks  t1pks: ((PKS_KS &amp; PKS_AT) or (ene_KS &amp;...   \n",
       "3                  t1pks  t1pks: ((PKS_KS &amp; PKS_AT) or (ene_KS &amp;...   \n",
       "4                  t1pks  t1pks: ((PKS_KS &amp; PKS_AT) or (ene_KS &amp;...   \n",
       "\n",
       "                                               genes  subclusters  \\\n",
       "0  AEK75490.1;AEK75491.1;AEK75492.1;AEK75493.1;AE...          nan   \n",
       "1  AHH99917.1;AHH99918.1;AHH99919.1;AHH99920.1;AH...          nan   \n",
       "2  BAD97694.1;BAD97695.1;BAD97696.1;BAD97697.1;BA...          nan   \n",
       "3  BAE71313.1;BAE71314.1;BAE71315.1;BAE71316.1;BA...          nan   \n",
       "4  AAS90092.1;AAS90093.1;AAS90110.1;AAS90111.1;AA...          nan   \n",
       "\n",
       "                            NRPSs/PKSs  \\\n",
       "0                                  NaN   \n",
       "1                                  NaN   \n",
       "2                    BAD97694;BAD97699   \n",
       "3  BAE71314;BAE71315;BAE71316;BAE71317   \n",
       "4  AAS90093;AAS90110;AAS90111;AAS90095   \n",
       "\n",
       "                                     signature_genes RiPPs  \\\n",
       "0  AEK75493;AEK75497;AEK75499;AEK75502;AEK75503;A...     -   \n",
       "1  AHH99918;AHH99919;AHH99920;AHH99921;AHH99922;A...     -   \n",
       "2                         BAD97694;BAD97696;BAD97699     -   \n",
       "3                BAE71314;BAE71315;BAE71316;BAE71317     -   \n",
       "4                AAS90093;AAS90110;AAS90111;AAS90095     -   \n",
       "\n",
       "   predicted_structure      monomers  \n",
       "0                  nan           NaN  \n",
       "1                  nan           NaN  \n",
       "2                  nan          (pk)  \n",
       "3                  nan  (pk) + (mal)  \n",
       "4                  nan  (pk) + (mal)  "
      ]
     },
     "execution_count": 7,
     "metadata": {},
     "output_type": "execute_result"
    }
   ],
   "source": [
    "antismash = pd.read_csv('../data/mibig/antismash/classification.csv')\n",
    "antismash.head()"
   ]
  },
  {
   "cell_type": "code",
   "execution_count": 8,
   "metadata": {
    "collapsed": true
   },
   "outputs": [],
   "source": [
    "# Alkaloid, NRP, Other, Polyketide, RiPP, Saccharide, Terpene\n",
    "\n",
    "AS_SUPERCLASSES = {\n",
    "    'nrps': 'NRP',\n",
    "    't1pks': 'Polyketide',\n",
    "    't2pks': 'Polyketide',\n",
    "    'terpene': 'Terpene',\n",
    "    'lantipeptide': 'RiPP',\n",
    "    'otherks': 'Polyketide',\n",
    "    'transatpks': 'Polyketide',\n",
    "    'indole': 'Alkaloid',\n",
    "    'bacteriocin': 'RiPP',\n",
    "    'amglyccycl': 'Saccharide',\n",
    "    't3pks': 'Polyketide',\n",
    "    'other': 'Other',\n",
    "    'thiopeptide': 'RiPP',\n",
    "    'oligosaccharide': 'Saccharide',\n",
    "    'lassopeptide': 'RiPP',\n",
    "    'nucleoside': 'Other',\n",
    "    'cyanobactin': 'RiPP',\n",
    "    'siderophore': None, # can be NRP and non-NRP (Other)\n",
    "    'arylpolyene': 'Polyketide',\n",
    "    'melanin': 'Other',\n",
    "    'butyrolactone': 'Other',\n",
    "    'blactam': None, # can be NRP and non-NRP (Other)\n",
    "    'ectoine': 'Other',\n",
    "    'ladderane': None, # not in JSON \n",
    "    'aminocoumarin': 'Other',\n",
    "    'phenazine': 'Other',\n",
    "    'PUFA': 'Polyketide',\n",
    "    'phosphonate': 'Other',\n",
    "    'sactipeptide': 'RiPP',\n",
    "    'linaridin': 'RiPP',\n",
    "    'bottromycin': 'RiPP',\n",
    "    'microviridin': 'RiPP',\n",
    "    'furan': 'Polyketide',\n",
    "    'hserlactone': None, # can be NRP, but is not a subclass\n",
    "    'head_to_tail': 'RiPP', \n",
    "    'glycocin': 'RiPP',\n",
    "    'proteusin': 'RiPP',\n",
    "    'microcin': 'RiPP',\n",
    "    'pbde': 'Other',\n",
    "    'phosphoglycolipid': 'Other',\n",
    "    'fused': None, # not in JSON\n",
    "    'ppysks': 'Other',\n",
    "    'resorcinol': 'Other'\n",
    "}"
   ]
  },
  {
   "cell_type": "code",
   "execution_count": 9,
   "metadata": {},
   "outputs": [
    {
     "data": {
      "text/plain": [
       "contig_id\n",
       "BGC0000001.1                     [t1pks]\n",
       "BGC0000002.1    [oligosaccharide, t1pks]\n",
       "BGC0000003.1                     [t1pks]\n",
       "BGC0000004.1                     [t1pks]\n",
       "BGC0000006.1                     [t1pks]\n",
       "Name: classes, dtype: object"
      ]
     },
     "execution_count": 9,
     "metadata": {},
     "output_type": "execute_result"
    }
   ],
   "source": [
    "as_classes_sublists = antismash.groupby('contig_id')['classes'].apply(lambda lists: [c for classes in lists for c in classes.split(';')])\n",
    "as_classes_sublists.head()"
   ]
  },
  {
   "cell_type": "code",
   "execution_count": 10,
   "metadata": {},
   "outputs": [
    {
     "data": {
      "text/plain": [
       "contig_id\n",
       "BGC0000001.1                [Polyketide]\n",
       "BGC0000002.1    [Saccharide, Polyketide]\n",
       "BGC0000003.1                [Polyketide]\n",
       "BGC0000004.1                [Polyketide]\n",
       "BGC0000006.1                [Polyketide]\n",
       "BGC0000007.1                [Polyketide]\n",
       "BGC0000008.1                [Polyketide]\n",
       "BGC0000009.1                [Polyketide]\n",
       "BGC0000011.1                [Polyketide]\n",
       "BGC0000012.1                [Polyketide]\n",
       "Name: classes, dtype: object"
      ]
     },
     "execution_count": 10,
     "metadata": {},
     "output_type": "execute_result"
    }
   ],
   "source": [
    "as_superclasses_sublists = as_classes_sublists.apply(lambda classes: [AS_SUPERCLASSES[c] for c in classes])\n",
    "as_superclasses_sublists[:10]"
   ]
  },
  {
   "cell_type": "code",
   "execution_count": 11,
   "metadata": {},
   "outputs": [
    {
     "name": "stdout",
     "output_type": "stream",
     "text": [
      "BGCs with unknown superclass: 34\n"
     ]
    },
    {
     "data": {
      "text/plain": [
       "contig_id\n",
       "BGC0000182.1           [None, Polyketide, Polyketide]\n",
       "BGC0000213.1                       [Polyketide, None]\n",
       "BGC0000283.1                       [Saccharide, None]\n",
       "BGC0000288.1                              [None, NRP]\n",
       "BGC0000295.1                                   [None]\n",
       "BGC0000299.1                              [None, NRP]\n",
       "BGC0000314.1                              [None, NRP]\n",
       "BGC0000329.1                              [None, NRP]\n",
       "BGC0000429.1                  [NRP, Polyketide, None]\n",
       "BGC0000841.1                                   [None]\n",
       "BGC0000842.1                                   [None]\n",
       "BGC0000843.1                                   [None]\n",
       "BGC0000845.1                                   [None]\n",
       "BGC0000846.1                                   [None]\n",
       "BGC0000847.1                                   [None]\n",
       "BGC0000939.1                                   [None]\n",
       "BGC0000940.1                                   [None]\n",
       "BGC0000941.1                                   [None]\n",
       "BGC0000942.1                                   [None]\n",
       "BGC0000943.1                                   [None]\n",
       "BGC0000944.1                                   [None]\n",
       "BGC0000946.1                                   [None]\n",
       "BGC0000947.1                                   [None]\n",
       "BGC0000949.1                              [None, NRP]\n",
       "BGC0000961.1                  [None, Polyketide, NRP]\n",
       "BGC0001072.1    [Polyketide, Other, Polyketide, None]\n",
       "BGC0001148.1            [RiPP, Polyketide, None, NRP]\n",
       "BGC0001151.1                                   [None]\n",
       "BGC0001191.1                                   [None]\n",
       "BGC0001297.1                              [NRP, None]\n",
       "BGC0001308.1                       [Polyketide, None]\n",
       "BGC0001343.1                                   [None]\n",
       "BGC0001369.1                                   [None]\n",
       "BGC0001408.1                                   [None]\n",
       "Name: classes, dtype: object"
      ]
     },
     "execution_count": 11,
     "metadata": {},
     "output_type": "execute_result"
    }
   ],
   "source": [
    "ambiguous_bgcs = as_superclasses_sublists[as_superclasses_sublists.apply(lambda classes: any(c is None for c in classes))]\n",
    "print('BGCs with unknown superclass:', len(ambiguous_bgcs))\n",
    "ambiguous_bgcs"
   ]
  },
  {
   "cell_type": "code",
   "execution_count": 12,
   "metadata": {},
   "outputs": [
    {
     "data": {
      "text/plain": [
       "1501"
      ]
     },
     "execution_count": 12,
     "metadata": {},
     "output_type": "execute_result"
    }
   ],
   "source": [
    "selected_bgc_ids = np.setdiff1d(all_ml_samples.index.values, ambiguous_bgcs.index.values)\n",
    "len(selected_bgc_ids)"
   ]
  },
  {
   "cell_type": "code",
   "execution_count": 13,
   "metadata": {
    "collapsed": true
   },
   "outputs": [],
   "source": [
    "# Filter samples and responses by selected BGC IDs\n",
    "ml_samples = all_ml_samples.loc[selected_bgc_ids]\n",
    "ml_responses = all_ml_responses.loc[selected_bgc_ids]"
   ]
  },
  {
   "cell_type": "code",
   "execution_count": 14,
   "metadata": {},
   "outputs": [
    {
     "name": "stdout",
     "output_type": "stream",
     "text": [
      "(1501, 7)\n"
     ]
    },
    {
     "data": {
      "text/html": [
       "<div>\n",
       "<style>\n",
       "    .dataframe thead tr:only-child th {\n",
       "        text-align: right;\n",
       "    }\n",
       "\n",
       "    .dataframe thead th {\n",
       "        text-align: left;\n",
       "    }\n",
       "\n",
       "    .dataframe tbody tr th {\n",
       "        vertical-align: top;\n",
       "    }\n",
       "</style>\n",
       "<table border=\"1\" class=\"dataframe\">\n",
       "  <thead>\n",
       "    <tr style=\"text-align: right;\">\n",
       "      <th></th>\n",
       "      <th>Alkaloid</th>\n",
       "      <th>NRP</th>\n",
       "      <th>Other</th>\n",
       "      <th>Polyketide</th>\n",
       "      <th>RiPP</th>\n",
       "      <th>Saccharide</th>\n",
       "      <th>Terpene</th>\n",
       "    </tr>\n",
       "    <tr>\n",
       "      <th>contig_id</th>\n",
       "      <th></th>\n",
       "      <th></th>\n",
       "      <th></th>\n",
       "      <th></th>\n",
       "      <th></th>\n",
       "      <th></th>\n",
       "      <th></th>\n",
       "    </tr>\n",
       "  </thead>\n",
       "  <tbody>\n",
       "    <tr>\n",
       "      <th>BGC0000001.1</th>\n",
       "      <td>0.000</td>\n",
       "      <td>0.000</td>\n",
       "      <td>0.000</td>\n",
       "      <td>1.000</td>\n",
       "      <td>0.000</td>\n",
       "      <td>0.000</td>\n",
       "      <td>0.000</td>\n",
       "    </tr>\n",
       "    <tr>\n",
       "      <th>BGC0000002.1</th>\n",
       "      <td>0.000</td>\n",
       "      <td>0.000</td>\n",
       "      <td>0.000</td>\n",
       "      <td>1.000</td>\n",
       "      <td>0.000</td>\n",
       "      <td>1.000</td>\n",
       "      <td>0.000</td>\n",
       "    </tr>\n",
       "    <tr>\n",
       "      <th>BGC0000003.1</th>\n",
       "      <td>0.000</td>\n",
       "      <td>0.000</td>\n",
       "      <td>0.000</td>\n",
       "      <td>1.000</td>\n",
       "      <td>0.000</td>\n",
       "      <td>0.000</td>\n",
       "      <td>0.000</td>\n",
       "    </tr>\n",
       "    <tr>\n",
       "      <th>BGC0000004.1</th>\n",
       "      <td>0.000</td>\n",
       "      <td>0.000</td>\n",
       "      <td>0.000</td>\n",
       "      <td>1.000</td>\n",
       "      <td>0.000</td>\n",
       "      <td>0.000</td>\n",
       "      <td>0.000</td>\n",
       "    </tr>\n",
       "    <tr>\n",
       "      <th>BGC0000005.1</th>\n",
       "      <td>0.000</td>\n",
       "      <td>0.000</td>\n",
       "      <td>0.000</td>\n",
       "      <td>0.000</td>\n",
       "      <td>0.000</td>\n",
       "      <td>0.000</td>\n",
       "      <td>0.000</td>\n",
       "    </tr>\n",
       "  </tbody>\n",
       "</table>\n",
       "</div>"
      ],
      "text/plain": [
       "              Alkaloid   NRP  Other  Polyketide  RiPP  Saccharide  Terpene\n",
       "contig_id                                                                 \n",
       "BGC0000001.1     0.000 0.000  0.000       1.000 0.000       0.000    0.000\n",
       "BGC0000002.1     0.000 0.000  0.000       1.000 0.000       1.000    0.000\n",
       "BGC0000003.1     0.000 0.000  0.000       1.000 0.000       0.000    0.000\n",
       "BGC0000004.1     0.000 0.000  0.000       1.000 0.000       0.000    0.000\n",
       "BGC0000005.1     0.000 0.000  0.000       0.000 0.000       0.000    0.000"
      ]
     },
     "execution_count": 14,
     "metadata": {},
     "output_type": "execute_result"
    }
   ],
   "source": [
    "# Convert to binary lists\n",
    "as_responses_list = list(as_superclasses_sublists.apply(lambda classes: [int(c in classes) for c in ml_responses.columns]))\n",
    "# Create dataframe with columns = classes, rows = bgcs\n",
    "as_responses = pd.DataFrame(as_responses_list, index=as_superclasses_sublists.index, columns=ml_responses.columns)\n",
    "# Select BGCs based on IDs in ml_responses\n",
    "as_responses = as_responses.reindex(ml_responses.index).fillna(0)\n",
    "print(as_responses.shape)\n",
    "as_responses.head()"
   ]
  },
  {
   "cell_type": "code",
   "execution_count": 15,
   "metadata": {},
   "outputs": [
    {
     "name": "stdout",
     "output_type": "stream",
     "text": [
      "AntiSMASH predicted no class for 356 BGCs\n"
     ]
    },
    {
     "data": {
      "text/plain": [
       "Index(['BGC0000005.1', 'BGC0000010.1', 'BGC0000015.2', 'BGC0000016.1',\n",
       "       'BGC0000019.1', 'BGC0000025.1', 'BGC0000088.1', 'BGC0000095.1',\n",
       "       'BGC0000095.11', 'BGC0000095.14',\n",
       "       ...\n",
       "       'BGC0001398.7', 'BGC0001398.8', 'BGC0001401.1', 'BGC0001401.2',\n",
       "       'BGC0001401.3', 'BGC0001401.4', 'BGC0001401.5', 'BGC0001410.1',\n",
       "       'BGC0001411.1', 'BGC0001412.1'],\n",
       "      dtype='object', name='contig_id', length=356)"
      ]
     },
     "execution_count": 15,
     "metadata": {},
     "output_type": "execute_result"
    }
   ],
   "source": [
    "as_no_classes = as_responses[as_responses.sum(axis=1) == 0]\n",
    "print('AntiSMASH predicted no class for {} BGCs'.format(len(as_no_classes)))\n",
    "as_no_classes.index"
   ]
  },
  {
   "cell_type": "code",
   "execution_count": 16,
   "metadata": {},
   "outputs": [
    {
     "name": "stdout",
     "output_type": "stream",
     "text": [
      "Classes of BGCs not predicted by AntiSMASH:\n"
     ]
    },
    {
     "data": {
      "text/plain": [
       "Alkaloid      11.000\n",
       "NRP           26.000\n",
       "Other         63.000\n",
       "Polyketide   103.000\n",
       "RiPP          40.000\n",
       "Saccharide    98.000\n",
       "Terpene       40.000\n",
       "dtype: float64"
      ]
     },
     "execution_count": 16,
     "metadata": {},
     "output_type": "execute_result"
    }
   ],
   "source": [
    "print('Classes of BGCs not predicted by AntiSMASH:')\n",
    "ml_responses.loc[as_no_classes.index].sum()"
   ]
  },
  {
   "cell_type": "code",
   "execution_count": 17,
   "metadata": {},
   "outputs": [
    {
     "data": {
      "text/html": [
       "<div>\n",
       "<style>\n",
       "    .dataframe thead tr:only-child th {\n",
       "        text-align: right;\n",
       "    }\n",
       "\n",
       "    .dataframe thead th {\n",
       "        text-align: left;\n",
       "    }\n",
       "\n",
       "    .dataframe tbody tr th {\n",
       "        vertical-align: top;\n",
       "    }\n",
       "</style>\n",
       "<table border=\"1\" class=\"dataframe\">\n",
       "  <thead>\n",
       "    <tr style=\"text-align: right;\">\n",
       "      <th></th>\n",
       "      <th>AUC</th>\n",
       "      <th>Precision</th>\n",
       "      <th>Recall</th>\n",
       "    </tr>\n",
       "  </thead>\n",
       "  <tbody>\n",
       "    <tr>\n",
       "      <th>Alkaloid</th>\n",
       "      <td>0.785</td>\n",
       "      <td>0.434</td>\n",
       "      <td>0.590</td>\n",
       "    </tr>\n",
       "    <tr>\n",
       "      <th>NRP</th>\n",
       "      <td>0.915</td>\n",
       "      <td>0.939</td>\n",
       "      <td>0.852</td>\n",
       "    </tr>\n",
       "    <tr>\n",
       "      <th>Other</th>\n",
       "      <td>0.671</td>\n",
       "      <td>0.594</td>\n",
       "      <td>0.370</td>\n",
       "    </tr>\n",
       "    <tr>\n",
       "      <th>Polyketide</th>\n",
       "      <td>0.870</td>\n",
       "      <td>0.901</td>\n",
       "      <td>0.806</td>\n",
       "    </tr>\n",
       "    <tr>\n",
       "      <th>RiPP</th>\n",
       "      <td>0.897</td>\n",
       "      <td>0.958</td>\n",
       "      <td>0.799</td>\n",
       "    </tr>\n",
       "    <tr>\n",
       "      <th>Saccharide</th>\n",
       "      <td>0.607</td>\n",
       "      <td>0.769</td>\n",
       "      <td>0.223</td>\n",
       "    </tr>\n",
       "    <tr>\n",
       "      <th>Terpene</th>\n",
       "      <td>0.744</td>\n",
       "      <td>0.908</td>\n",
       "      <td>0.492</td>\n",
       "    </tr>\n",
       "  </tbody>\n",
       "</table>\n",
       "</div>"
      ],
      "text/plain": [
       "             AUC  Precision  Recall\n",
       "Alkaloid   0.785      0.434   0.590\n",
       "NRP        0.915      0.939   0.852\n",
       "Other      0.671      0.594   0.370\n",
       "Polyketide 0.870      0.901   0.806\n",
       "RiPP       0.897      0.958   0.799\n",
       "Saccharide 0.607      0.769   0.223\n",
       "Terpene    0.744      0.908   0.492"
      ]
     },
     "execution_count": 17,
     "metadata": {},
     "output_type": "execute_result"
    }
   ],
   "source": [
    "as_scores = pd.DataFrame({\n",
    "    'AUC': metrics.roc_auc_score(ml_responses, as_responses, average=None), \n",
    "    'Precision': metrics.precision_score(ml_responses, as_responses, average=None), \n",
    "    'Recall': metrics.recall_score(ml_responses, as_responses, average=None)\n",
    "}, index=ml_responses.columns)\n",
    "as_scores"
   ]
  },
  {
   "cell_type": "code",
   "execution_count": 18,
   "metadata": {},
   "outputs": [
    {
     "data": {
      "text/plain": [
       "AUC         0.784\n",
       "Precision   0.786\n",
       "Recall      0.590\n",
       "dtype: float64"
      ]
     },
     "execution_count": 18,
     "metadata": {},
     "output_type": "execute_result"
    }
   ],
   "source": [
    "as_scores.mean()"
   ]
  },
  {
   "cell_type": "markdown",
   "metadata": {},
   "source": [
    "# Random Forest: Multilabel classification results"
   ]
  },
  {
   "cell_type": "markdown",
   "metadata": {},
   "source": [
    "### Shuffle split"
   ]
  },
  {
   "cell_type": "code",
   "execution_count": 19,
   "metadata": {
    "collapsed": true
   },
   "outputs": [],
   "source": [
    "def create_model():\n",
    "    return RandomForestClassifier(n_estimators=100, random_state=0)"
   ]
  },
  {
   "cell_type": "code",
   "execution_count": null,
   "metadata": {
    "collapsed": true
   },
   "outputs": [],
   "source": []
  },
  {
   "cell_type": "code",
   "execution_count": 20,
   "metadata": {},
   "outputs": [
    {
     "data": {
      "text/plain": [
       "0    BGC0000001\n",
       "1    BGC0000002\n",
       "2    BGC0000003\n",
       "3    BGC0000004\n",
       "4    BGC0000005\n",
       "dtype: object"
      ]
     },
     "execution_count": 20,
     "metadata": {},
     "output_type": "execute_result"
    }
   ],
   "source": [
    "major_bgc_ids = pd.Series(selected_bgc_ids).apply(lambda contig_id: contig_id.split('.')[0])\n",
    "major_bgc_ids.head()"
   ]
  },
  {
   "cell_type": "code",
   "execution_count": 21,
   "metadata": {},
   "outputs": [
    {
     "data": {
      "text/plain": [
       "BGC0000001    BGC0000001.1\n",
       "BGC0000002    BGC0000002.1\n",
       "BGC0000003    BGC0000003.1\n",
       "BGC0000004    BGC0000004.1\n",
       "BGC0000005    BGC0000005.1\n",
       "dtype: object"
      ]
     },
     "execution_count": 21,
     "metadata": {},
     "output_type": "execute_result"
    }
   ],
   "source": [
    "major_to_minor_ids = pd.Series(selected_bgc_ids, index=major_bgc_ids)\n",
    "major_to_minor_ids.head()"
   ]
  },
  {
   "cell_type": "code",
   "execution_count": 22,
   "metadata": {},
   "outputs": [
    {
     "data": {
      "text/plain": [
       "1355"
      ]
     },
     "execution_count": 22,
     "metadata": {},
     "output_type": "execute_result"
    }
   ],
   "source": [
    "unique_major_ids = major_bgc_ids.unique()\n",
    "len(unique_major_ids)"
   ]
  },
  {
   "cell_type": "code",
   "execution_count": 23,
   "metadata": {},
   "outputs": [
    {
     "name": "stdout",
     "output_type": "stream",
     "text": [
      "Train: 1199 Test: 302\n",
      "Train: 1194 Test: 307\n",
      "Train: 1220 Test: 281\n",
      "Train: 1192 Test: 309\n",
      "Train: 1199 Test: 302\n",
      "Accuracy (exact match) 0.6934747298208637\n",
      "AUC         0.792\n",
      "Precision   0.871\n",
      "Recall      0.607\n",
      "dtype: float64\n"
     ]
    },
    {
     "data": {
      "text/html": [
       "<div>\n",
       "<style>\n",
       "    .dataframe thead tr:only-child th {\n",
       "        text-align: right;\n",
       "    }\n",
       "\n",
       "    .dataframe thead th {\n",
       "        text-align: left;\n",
       "    }\n",
       "\n",
       "    .dataframe tbody tr th {\n",
       "        vertical-align: top;\n",
       "    }\n",
       "</style>\n",
       "<table border=\"1\" class=\"dataframe\">\n",
       "  <thead>\n",
       "    <tr style=\"text-align: right;\">\n",
       "      <th></th>\n",
       "      <th>AUC</th>\n",
       "      <th>Precision</th>\n",
       "      <th>Recall</th>\n",
       "    </tr>\n",
       "    <tr>\n",
       "      <th>Class</th>\n",
       "      <th></th>\n",
       "      <th></th>\n",
       "      <th></th>\n",
       "    </tr>\n",
       "  </thead>\n",
       "  <tbody>\n",
       "    <tr>\n",
       "      <th>Alkaloid</th>\n",
       "      <td>0.607</td>\n",
       "      <td>0.733</td>\n",
       "      <td>0.216</td>\n",
       "    </tr>\n",
       "    <tr>\n",
       "      <th>NRP</th>\n",
       "      <td>0.907</td>\n",
       "      <td>0.904</td>\n",
       "      <td>0.850</td>\n",
       "    </tr>\n",
       "    <tr>\n",
       "      <th>Other</th>\n",
       "      <td>0.583</td>\n",
       "      <td>0.876</td>\n",
       "      <td>0.171</td>\n",
       "    </tr>\n",
       "    <tr>\n",
       "      <th>Polyketide</th>\n",
       "      <td>0.903</td>\n",
       "      <td>0.876</td>\n",
       "      <td>0.898</td>\n",
       "    </tr>\n",
       "    <tr>\n",
       "      <th>RiPP</th>\n",
       "      <td>0.907</td>\n",
       "      <td>0.935</td>\n",
       "      <td>0.823</td>\n",
       "    </tr>\n",
       "    <tr>\n",
       "      <th>Saccharide</th>\n",
       "      <td>0.811</td>\n",
       "      <td>0.906</td>\n",
       "      <td>0.631</td>\n",
       "    </tr>\n",
       "    <tr>\n",
       "      <th>Terpene</th>\n",
       "      <td>0.824</td>\n",
       "      <td>0.867</td>\n",
       "      <td>0.658</td>\n",
       "    </tr>\n",
       "  </tbody>\n",
       "</table>\n",
       "</div>"
      ],
      "text/plain": [
       "             AUC  Precision  Recall\n",
       "Class                              \n",
       "Alkaloid   0.607      0.733   0.216\n",
       "NRP        0.907      0.904   0.850\n",
       "Other      0.583      0.876   0.171\n",
       "Polyketide 0.903      0.876   0.898\n",
       "RiPP       0.907      0.935   0.823\n",
       "Saccharide 0.811      0.906   0.631\n",
       "Terpene    0.824      0.867   0.658"
      ]
     },
     "execution_count": 23,
     "metadata": {},
     "output_type": "execute_result"
    }
   ],
   "source": [
    "splitter = KFold(n_splits=5, shuffle=True, random_state=0)\n",
    "\n",
    "scores = []\n",
    "accuracies = []\n",
    "mc_y_test = []\n",
    "mc_pred = []\n",
    "for id_train_idx, id_test_idx in splitter.split(unique_major_ids):\n",
    "    train_major_ids, test_major_ids = unique_major_ids[id_train_idx], unique_major_ids[id_test_idx]\n",
    "    train_minor_ids, test_minor_ids = major_to_minor_ids.loc[train_major_ids], major_to_minor_ids.loc[test_major_ids]\n",
    "    X_train, X_test = ml_samples.loc[train_minor_ids].values, ml_samples.loc[test_minor_ids].values\n",
    "    y_train, y_test = ml_responses.loc[train_minor_ids].values, ml_responses.loc[test_minor_ids].values\n",
    "    print('Train:', len(X_train), 'Test:', len(X_test))\n",
    "    split_model = create_model()\n",
    "    # fitting the model\n",
    "    split_model.fit(X_train, y_train)\n",
    "    # predict the response\n",
    "    pred = split_model.predict(X_test)\n",
    "    mc_y_test += [';'.join(ml_responses.columns[resp.astype(np.bool)]) for resp in y_test]\n",
    "    mc_pred += [';'.join(ml_responses.columns[resp.astype(np.bool)]) for resp in pred]\n",
    "    aucs = metrics.roc_auc_score(y_test, pred, average=None)\n",
    "    precisions = metrics.precision_score(y_test, pred, average=None)\n",
    "    recalls = metrics.recall_score(y_test, pred, average=None)\n",
    "    accuracy = metrics.accuracy_score(y_test, pred)\n",
    "    accuracies.append(accuracy)\n",
    "    scores += [{'Precision': p, 'Recall': r, 'AUC': a, 'Class': c} for p,r,a,c in zip(precisions, recalls, aucs, ml_responses.columns)]\n",
    "    \n",
    "scores = pd.DataFrame(scores).groupby('Class').mean()\n",
    "\n",
    "print('Accuracy (exact match)', np.mean(accuracies))\n",
    "print(scores.mean())\n",
    "scores\n"
   ]
  },
  {
   "cell_type": "code",
   "execution_count": 24,
   "metadata": {},
   "outputs": [
    {
     "data": {
      "text/html": [
       "<div>\n",
       "<style>\n",
       "    .dataframe thead tr:only-child th {\n",
       "        text-align: right;\n",
       "    }\n",
       "\n",
       "    .dataframe thead th {\n",
       "        text-align: left;\n",
       "    }\n",
       "\n",
       "    .dataframe tbody tr th {\n",
       "        vertical-align: top;\n",
       "    }\n",
       "</style>\n",
       "<table border=\"1\" class=\"dataframe\">\n",
       "  <thead>\n",
       "    <tr>\n",
       "      <th></th>\n",
       "      <th></th>\n",
       "      <th colspan=\"3\" halign=\"left\">RandomForest</th>\n",
       "      <th colspan=\"3\" halign=\"left\">AntiSMASH</th>\n",
       "    </tr>\n",
       "    <tr>\n",
       "      <th></th>\n",
       "      <th># samples</th>\n",
       "      <th>AUC</th>\n",
       "      <th>Precision</th>\n",
       "      <th>Recall</th>\n",
       "      <th>AUC</th>\n",
       "      <th>Precision</th>\n",
       "      <th>Recall</th>\n",
       "    </tr>\n",
       "    <tr>\n",
       "      <th>Class</th>\n",
       "      <th></th>\n",
       "      <th></th>\n",
       "      <th></th>\n",
       "      <th></th>\n",
       "      <th></th>\n",
       "      <th></th>\n",
       "      <th></th>\n",
       "    </tr>\n",
       "  </thead>\n",
       "  <tbody>\n",
       "    <tr>\n",
       "      <th>Polyketide</th>\n",
       "      <td>644.000</td>\n",
       "      <td>0.903</td>\n",
       "      <td>0.876</td>\n",
       "      <td>0.898</td>\n",
       "      <td>0.870</td>\n",
       "      <td>0.901</td>\n",
       "      <td>0.806</td>\n",
       "    </tr>\n",
       "    <tr>\n",
       "      <th>NRP</th>\n",
       "      <td>433.000</td>\n",
       "      <td>0.907</td>\n",
       "      <td>0.904</td>\n",
       "      <td>0.850</td>\n",
       "      <td>0.915</td>\n",
       "      <td>0.939</td>\n",
       "      <td>0.852</td>\n",
       "    </tr>\n",
       "    <tr>\n",
       "      <th>RiPP</th>\n",
       "      <td>199.000</td>\n",
       "      <td>0.907</td>\n",
       "      <td>0.935</td>\n",
       "      <td>0.823</td>\n",
       "      <td>0.897</td>\n",
       "      <td>0.958</td>\n",
       "      <td>0.799</td>\n",
       "    </tr>\n",
       "    <tr>\n",
       "      <th>Saccharide</th>\n",
       "      <td>179.000</td>\n",
       "      <td>0.811</td>\n",
       "      <td>0.906</td>\n",
       "      <td>0.631</td>\n",
       "      <td>0.607</td>\n",
       "      <td>0.769</td>\n",
       "      <td>0.223</td>\n",
       "    </tr>\n",
       "    <tr>\n",
       "      <th>Other</th>\n",
       "      <td>154.000</td>\n",
       "      <td>0.583</td>\n",
       "      <td>0.876</td>\n",
       "      <td>0.171</td>\n",
       "      <td>0.671</td>\n",
       "      <td>0.594</td>\n",
       "      <td>0.370</td>\n",
       "    </tr>\n",
       "    <tr>\n",
       "      <th>Terpene</th>\n",
       "      <td>120.000</td>\n",
       "      <td>0.824</td>\n",
       "      <td>0.867</td>\n",
       "      <td>0.658</td>\n",
       "      <td>0.744</td>\n",
       "      <td>0.908</td>\n",
       "      <td>0.492</td>\n",
       "    </tr>\n",
       "    <tr>\n",
       "      <th>Alkaloid</th>\n",
       "      <td>39.000</td>\n",
       "      <td>0.607</td>\n",
       "      <td>0.733</td>\n",
       "      <td>0.216</td>\n",
       "      <td>0.785</td>\n",
       "      <td>0.434</td>\n",
       "      <td>0.590</td>\n",
       "    </tr>\n",
       "    <tr>\n",
       "      <th>Average</th>\n",
       "      <td>252.571</td>\n",
       "      <td>0.792</td>\n",
       "      <td>0.871</td>\n",
       "      <td>0.607</td>\n",
       "      <td>0.784</td>\n",
       "      <td>0.786</td>\n",
       "      <td>0.590</td>\n",
       "    </tr>\n",
       "  </tbody>\n",
       "</table>\n",
       "</div>"
      ],
      "text/plain": [
       "                     RandomForest                  AntiSMASH                 \n",
       "           # samples          AUC Precision Recall       AUC Precision Recall\n",
       "Class                                                                        \n",
       "Polyketide   644.000        0.903     0.876  0.898     0.870     0.901  0.806\n",
       "NRP          433.000        0.907     0.904  0.850     0.915     0.939  0.852\n",
       "RiPP         199.000        0.907     0.935  0.823     0.897     0.958  0.799\n",
       "Saccharide   179.000        0.811     0.906  0.631     0.607     0.769  0.223\n",
       "Other        154.000        0.583     0.876  0.171     0.671     0.594  0.370\n",
       "Terpene      120.000        0.824     0.867  0.658     0.744     0.908  0.492\n",
       "Alkaloid      39.000        0.607     0.733  0.216     0.785     0.434  0.590\n",
       "Average      252.571        0.792     0.871  0.607     0.784     0.786  0.590"
      ]
     },
     "execution_count": 24,
     "metadata": {},
     "output_type": "execute_result"
    }
   ],
   "source": [
    "merged_scores = pd.concat([scores, as_scores[scores.columns]], axis=1)\n",
    "merged_scores.columns = pd.MultiIndex.from_product([['RandomForest','AntiSMASH'], scores.columns.values])\n",
    "merged_scores.insert(0, ('', '# samples'), ml_responses.sum().astype(np.int))\n",
    "merged_scores = merged_scores.sort_values(by=('', '# samples'), ascending=False)\n",
    "merged_scores = merged_scores.append(pd.Series(merged_scores.mean(), name='Average'))\n",
    "merged_scores"
   ]
  },
  {
   "cell_type": "code",
   "execution_count": 25,
   "metadata": {},
   "outputs": [
    {
     "data": {
      "text/plain": [
       "<matplotlib.legend.Legend at 0x112e5a4e0>"
      ]
     },
     "execution_count": 25,
     "metadata": {},
     "output_type": "execute_result"
    },
    {
     "data": {
      "image/png": "[encoded data removed]",
      "text/plain": [
       "<matplotlib.figure.Figure at 0x112d944e0>"
      ]
     },
     "metadata": {},
     "output_type": "display_data"
    }
   ],
   "source": [
    "ax = merged_scores[[('RandomForest','AUC'),('AntiSMASH','AUC')]].plot.barh()\n",
    "ax.legend(bbox_to_anchor=(1,1))"
   ]
  },
  {
   "cell_type": "code",
   "execution_count": 28,
   "metadata": {
    "collapsed": true
   },
   "outputs": [],
   "source": [
    "import itertools\n",
    "\n",
    "def plot_confusion_matrix(cm, classes,\n",
    "                          normalize=False,\n",
    "                          title='Confusion matrix',\n",
    "                          cmap=plt.cm.Blues):\n",
    "    \"\"\"\n",
    "    This function prints and plots the confusion matrix.\n",
    "    Normalization can be applied by setting `normalize=True`.\n",
    "    \"\"\"\n",
    "    if normalize:\n",
    "        cm = cm.astype('float') / cm.sum(axis=1)[:, np.newaxis]\n",
    "        print(\"Normalized confusion matrix\")\n",
    "    else:\n",
    "        print('Confusion matrix, without normalization')\n",
    "\n",
    "    plt.imshow(cm, interpolation='nearest', cmap=cmap)\n",
    "    plt.title(title)\n",
    "    plt.colorbar()\n",
    "    tick_marks = np.arange(len(classes))\n",
    "    plt.xticks(tick_marks, classes, rotation=90)\n",
    "    plt.yticks(tick_marks, classes)\n",
    "\n",
    "    fmt = '.2f' if normalize else 'd'\n",
    "    thresh = cm.max() / 2.\n",
    "    for i, j in itertools.product(range(cm.shape[0]), range(cm.shape[1])):\n",
    "        plt.text(j, i, format(cm[i, j], fmt),\n",
    "                 horizontalalignment=\"center\",\n",
    "                 color=\"white\" if cm[i, j] > thresh else \"black\")\n",
    "\n",
    "    plt.tight_layout()\n",
    "    plt.ylabel('True label')\n",
    "    plt.xlabel('Predicted label')\n",
    "    return plt.gcf()"
   ]
  },
  {
   "cell_type": "code",
   "execution_count": 29,
   "metadata": {
    "scrolled": false
   },
   "outputs": [
    {
     "name": "stdout",
     "output_type": "stream",
     "text": [
      "Confusion matrix, without normalization\n"
     ]
    },
    {
     "data": {
      "image/png": "[encoded data removed]",
      "text/plain": [
       "<matplotlib.figure.Figure at 0x11274a2b0>"
      ]
     },
     "metadata": {},
     "output_type": "display_data"
    }
   ],
   "source": [
    "mc_all_labels = np.unique(np.concatenate([mc_y_test, mc_pred]))\n",
    "matrix = metrics.confusion_matrix(mc_y_test, mc_pred, labels=mc_all_labels)\n",
    "matrix = (matrix / 10).astype(np.int)\n",
    "fig, ax = plt.subplots(1, 1, figsize=(14, 10))\n",
    "fig = plot_confusion_matrix(matrix, mc_all_labels)"
   ]
  },
  {
   "cell_type": "code",
   "execution_count": 30,
   "metadata": {
    "collapsed": true
   },
   "outputs": [],
   "source": [
    "fig.savefig('../data/figures/paper/supplementary/S8.pdf', bbox_inches='tight')"
   ]
  },
  {
   "cell_type": "markdown",
   "metadata": {},
   "source": [
    "# Final model training"
   ]
  },
  {
   "cell_type": "code",
   "execution_count": 32,
   "metadata": {},
   "outputs": [
    {
     "data": {
      "text/plain": [
       "RandomForestClassifier(bootstrap=True, class_weight=None, criterion='gini',\n",
       "            max_depth=None, max_features='auto', max_leaf_nodes=None,\n",
       "            min_impurity_decrease=0.0, min_impurity_split=None,\n",
       "            min_samples_leaf=1, min_samples_split=2,\n",
       "            min_weight_fraction_leaf=0.0, n_estimators=100, n_jobs=1,\n",
       "            oob_score=False, random_state=0, verbose=0, warm_start=False)"
      ]
     },
     "execution_count": 32,
     "metadata": {},
     "output_type": "execute_result"
    }
   ],
   "source": [
    "model = RandomForestClassifier(n_estimators=100, random_state=0)\n",
    "model.fit(all_ml_samples.values, all_ml_responses.values)"
   ]
  },
  {
   "cell_type": "code",
   "execution_count": 33,
   "metadata": {
    "collapsed": true
   },
   "outputs": [],
   "source": [
    "# TODO: save list of features (or feature transformer) along with model\n",
    "#with open('../data/models/trained/class-domain_set-rf.pickle', 'wb') as f:\n",
    "#    pickle.dump(model, f)"
   ]
  },
  {
   "cell_type": "markdown",
   "metadata": {},
   "source": [
    "## Feature importance"
   ]
  },
  {
   "cell_type": "code",
   "execution_count": 34,
   "metadata": {
    "collapsed": true
   },
   "outputs": [],
   "source": [
    "def plot_importance(model, label='Global', **kwargs):\n",
    "    importance = pd.DataFrame({'importance': model.feature_importances_, 'pfam_id': ml_samples.columns.values})\n",
    "    importance = importance.set_index('pfam_id')['importance'].sort_values()\n",
    "    ax = importance[-10:].plot.barh(**kwargs)\n",
    "    ax.set_xlabel('{} feature importance'.format(label))"
   ]
  },
  {
   "cell_type": "code",
   "execution_count": 35,
   "metadata": {},
   "outputs": [
    {
     "data": {
      "image/png": "[encoded data removed]",
      "text/plain": [
       "<matplotlib.figure.Figure at 0x114024d30>"
      ]
     },
     "metadata": {},
     "output_type": "display_data"
    }
   ],
   "source": [
    "# Per-class feature importance\n",
    "\n",
    "fig, axes = plt.subplots(2, 4, figsize=(14, 6))\n",
    "\n",
    "for i, cls in enumerate(ml_responses.columns):\n",
    "    class_model = RandomForestClassifier(n_estimators=100, random_state=0)\n",
    "    class_model.fit(all_ml_samples.values, all_ml_responses[cls].values)\n",
    "    plot_importance(class_model, label=cls, ax=axes[i // 4][i % 4])\n",
    "\n",
    "plot_importance(model, ax=axes[-1][-1], color='red')\n",
    "plt.tight_layout()\n",
    "fig.savefig('../data/figures/paper/supplementary/S9.pdf', bbox_inches='tight')"
   ]
  },
  {
   "cell_type": "markdown",
   "metadata": {},
   "source": [
    "# Candidate class prediction"
   ]
  },
  {
   "cell_type": "code",
   "execution_count": 73,
   "metadata": {
    "collapsed": true
   },
   "outputs": [],
   "source": [
    "def read_vectors_to_predict(path, train_columns):\n",
    "    vectors = pd.read_pickle(path)\n",
    "    for col in set(train_columns).difference(vectors.columns):\n",
    "        vectors[col] = 0\n",
    "    return vectors[train_columns.values]"
   ]
  },
  {
   "cell_type": "code",
   "execution_count": 74,
   "metadata": {
    "collapsed": true
   },
   "outputs": [],
   "source": [
    "model_path = '128lstm-100pfamdim-8pfamiter-posweighted-neg-10k-fpr2'"
   ]
  },
  {
   "cell_type": "code",
   "execution_count": 67,
   "metadata": {},
   "outputs": [
    {
     "data": {
      "text/html": [
       "<div>\n",
       "<style>\n",
       "    .dataframe thead tr:only-child th {\n",
       "        text-align: right;\n",
       "    }\n",
       "\n",
       "    .dataframe thead th {\n",
       "        text-align: left;\n",
       "    }\n",
       "\n",
       "    .dataframe tbody tr th {\n",
       "        vertical-align: top;\n",
       "    }\n",
       "</style>\n",
       "<table border=\"1\" class=\"dataframe\">\n",
       "  <thead>\n",
       "    <tr style=\"text-align: right;\">\n",
       "      <th>pfam_id</th>\n",
       "      <th>PF00004</th>\n",
       "      <th>PF00005</th>\n",
       "      <th>PF00006</th>\n",
       "      <th>PF00009</th>\n",
       "      <th>PF00010</th>\n",
       "      <th>PF00011</th>\n",
       "      <th>PF00012</th>\n",
       "      <th>PF00013</th>\n",
       "      <th>PF00015</th>\n",
       "      <th>PF00022</th>\n",
       "      <th>...</th>\n",
       "      <th>PF17387</th>\n",
       "      <th>PF17389</th>\n",
       "      <th>PF17390</th>\n",
       "      <th>PF17391</th>\n",
       "      <th>PF17392</th>\n",
       "      <th>PF17414</th>\n",
       "      <th>PF17425</th>\n",
       "      <th>PF17508</th>\n",
       "      <th>PF17584</th>\n",
       "      <th>PF17608</th>\n",
       "    </tr>\n",
       "    <tr>\n",
       "      <th>contig_id</th>\n",
       "      <th></th>\n",
       "      <th></th>\n",
       "      <th></th>\n",
       "      <th></th>\n",
       "      <th></th>\n",
       "      <th></th>\n",
       "      <th></th>\n",
       "      <th></th>\n",
       "      <th></th>\n",
       "      <th></th>\n",
       "      <th></th>\n",
       "      <th></th>\n",
       "      <th></th>\n",
       "      <th></th>\n",
       "      <th></th>\n",
       "      <th></th>\n",
       "      <th></th>\n",
       "      <th></th>\n",
       "      <th></th>\n",
       "      <th></th>\n",
       "      <th></th>\n",
       "    </tr>\n",
       "  </thead>\n",
       "  <tbody>\n",
       "    <tr>\n",
       "      <th>000749207dc6a8d25a7b67282a2fe375</th>\n",
       "      <td>0</td>\n",
       "      <td>0</td>\n",
       "      <td>0</td>\n",
       "      <td>0</td>\n",
       "      <td>0.000</td>\n",
       "      <td>0</td>\n",
       "      <td>0</td>\n",
       "      <td>0</td>\n",
       "      <td>0</td>\n",
       "      <td>0.000</td>\n",
       "      <td>...</td>\n",
       "      <td>0</td>\n",
       "      <td>0</td>\n",
       "      <td>0</td>\n",
       "      <td>0.000</td>\n",
       "      <td>0.000</td>\n",
       "      <td>0.000</td>\n",
       "      <td>0</td>\n",
       "      <td>0</td>\n",
       "      <td>0.000</td>\n",
       "      <td>0.000</td>\n",
       "    </tr>\n",
       "    <tr>\n",
       "      <th>00244b39ef89b1f18ccf4da018657383</th>\n",
       "      <td>0</td>\n",
       "      <td>0</td>\n",
       "      <td>0</td>\n",
       "      <td>0</td>\n",
       "      <td>0.000</td>\n",
       "      <td>0</td>\n",
       "      <td>0</td>\n",
       "      <td>0</td>\n",
       "      <td>0</td>\n",
       "      <td>0.000</td>\n",
       "      <td>...</td>\n",
       "      <td>0</td>\n",
       "      <td>0</td>\n",
       "      <td>0</td>\n",
       "      <td>0.000</td>\n",
       "      <td>0.000</td>\n",
       "      <td>0.000</td>\n",
       "      <td>0</td>\n",
       "      <td>0</td>\n",
       "      <td>0.000</td>\n",
       "      <td>0.000</td>\n",
       "    </tr>\n",
       "    <tr>\n",
       "      <th>0024a1c619f0dba6e8420c60b6c815e7</th>\n",
       "      <td>0</td>\n",
       "      <td>0</td>\n",
       "      <td>0</td>\n",
       "      <td>0</td>\n",
       "      <td>0.000</td>\n",
       "      <td>0</td>\n",
       "      <td>0</td>\n",
       "      <td>0</td>\n",
       "      <td>0</td>\n",
       "      <td>0.000</td>\n",
       "      <td>...</td>\n",
       "      <td>0</td>\n",
       "      <td>0</td>\n",
       "      <td>0</td>\n",
       "      <td>0.000</td>\n",
       "      <td>0.000</td>\n",
       "      <td>0.000</td>\n",
       "      <td>0</td>\n",
       "      <td>0</td>\n",
       "      <td>0.000</td>\n",
       "      <td>0.000</td>\n",
       "    </tr>\n",
       "    <tr>\n",
       "      <th>002d6748dad4145b1f09ca9dc93ead44</th>\n",
       "      <td>0</td>\n",
       "      <td>0</td>\n",
       "      <td>0</td>\n",
       "      <td>0</td>\n",
       "      <td>0.000</td>\n",
       "      <td>0</td>\n",
       "      <td>0</td>\n",
       "      <td>0</td>\n",
       "      <td>0</td>\n",
       "      <td>0.000</td>\n",
       "      <td>...</td>\n",
       "      <td>0</td>\n",
       "      <td>0</td>\n",
       "      <td>0</td>\n",
       "      <td>0.000</td>\n",
       "      <td>0.000</td>\n",
       "      <td>0.000</td>\n",
       "      <td>0</td>\n",
       "      <td>0</td>\n",
       "      <td>0.000</td>\n",
       "      <td>0.000</td>\n",
       "    </tr>\n",
       "    <tr>\n",
       "      <th>003041bd79286a337bdd94c332198c33</th>\n",
       "      <td>0</td>\n",
       "      <td>0</td>\n",
       "      <td>0</td>\n",
       "      <td>0</td>\n",
       "      <td>0.000</td>\n",
       "      <td>0</td>\n",
       "      <td>0</td>\n",
       "      <td>0</td>\n",
       "      <td>0</td>\n",
       "      <td>0.000</td>\n",
       "      <td>...</td>\n",
       "      <td>0</td>\n",
       "      <td>0</td>\n",
       "      <td>0</td>\n",
       "      <td>0.000</td>\n",
       "      <td>0.000</td>\n",
       "      <td>0.000</td>\n",
       "      <td>0</td>\n",
       "      <td>0</td>\n",
       "      <td>0.000</td>\n",
       "      <td>0.000</td>\n",
       "    </tr>\n",
       "  </tbody>\n",
       "</table>\n",
       "<p>5 rows × 3294 columns</p>\n",
       "</div>"
      ],
      "text/plain": [
       "pfam_id                           PF00004  PF00005  PF00006  PF00009  PF00010  \\\n",
       "contig_id                                                                       \n",
       "000749207dc6a8d25a7b67282a2fe375        0        0        0        0    0.000   \n",
       "00244b39ef89b1f18ccf4da018657383        0        0        0        0    0.000   \n",
       "0024a1c619f0dba6e8420c60b6c815e7        0        0        0        0    0.000   \n",
       "002d6748dad4145b1f09ca9dc93ead44        0        0        0        0    0.000   \n",
       "003041bd79286a337bdd94c332198c33        0        0        0        0    0.000   \n",
       "\n",
       "pfam_id                           PF00011  PF00012  PF00013  PF00015  PF00022  \\\n",
       "contig_id                                                                       \n",
       "000749207dc6a8d25a7b67282a2fe375        0        0        0        0    0.000   \n",
       "00244b39ef89b1f18ccf4da018657383        0        0        0        0    0.000   \n",
       "0024a1c619f0dba6e8420c60b6c815e7        0        0        0        0    0.000   \n",
       "002d6748dad4145b1f09ca9dc93ead44        0        0        0        0    0.000   \n",
       "003041bd79286a337bdd94c332198c33        0        0        0        0    0.000   \n",
       "\n",
       "pfam_id                            ...     PF17387  PF17389  PF17390  PF17391  \\\n",
       "contig_id                          ...                                          \n",
       "000749207dc6a8d25a7b67282a2fe375   ...           0        0        0    0.000   \n",
       "00244b39ef89b1f18ccf4da018657383   ...           0        0        0    0.000   \n",
       "0024a1c619f0dba6e8420c60b6c815e7   ...           0        0        0    0.000   \n",
       "002d6748dad4145b1f09ca9dc93ead44   ...           0        0        0    0.000   \n",
       "003041bd79286a337bdd94c332198c33   ...           0        0        0    0.000   \n",
       "\n",
       "pfam_id                           PF17392  PF17414  PF17425  PF17508  PF17584  \\\n",
       "contig_id                                                                       \n",
       "000749207dc6a8d25a7b67282a2fe375    0.000    0.000        0        0    0.000   \n",
       "00244b39ef89b1f18ccf4da018657383    0.000    0.000        0        0    0.000   \n",
       "0024a1c619f0dba6e8420c60b6c815e7    0.000    0.000        0        0    0.000   \n",
       "002d6748dad4145b1f09ca9dc93ead44    0.000    0.000        0        0    0.000   \n",
       "003041bd79286a337bdd94c332198c33    0.000    0.000        0        0    0.000   \n",
       "\n",
       "pfam_id                           PF17608  \n",
       "contig_id                                  \n",
       "000749207dc6a8d25a7b67282a2fe375    0.000  \n",
       "00244b39ef89b1f18ccf4da018657383    0.000  \n",
       "0024a1c619f0dba6e8420c60b6c815e7    0.000  \n",
       "002d6748dad4145b1f09ca9dc93ead44    0.000  \n",
       "003041bd79286a337bdd94c332198c33    0.000  \n",
       "\n",
       "[5 rows x 3294 columns]"
      ]
     },
     "execution_count": 67,
     "metadata": {},
     "output_type": "execute_result"
    }
   ],
   "source": [
    "candidates = read_vectors_to_predict(\"../data/bacteria/candidates/{}/domain_set.pkl\".format(model_path), ml_samples.columns)\n",
    "candidates.head()"
   ]
  },
  {
   "cell_type": "code",
   "execution_count": 81,
   "metadata": {},
   "outputs": [
    {
     "data": {
      "text/html": [
       "<div>\n",
       "<style>\n",
       "    .dataframe thead tr:only-child th {\n",
       "        text-align: right;\n",
       "    }\n",
       "\n",
       "    .dataframe thead th {\n",
       "        text-align: left;\n",
       "    }\n",
       "\n",
       "    .dataframe tbody tr th {\n",
       "        vertical-align: top;\n",
       "    }\n",
       "</style>\n",
       "<table border=\"1\" class=\"dataframe\">\n",
       "  <thead>\n",
       "    <tr style=\"text-align: right;\">\n",
       "      <th></th>\n",
       "      <th>Alkaloid</th>\n",
       "      <th>NRP</th>\n",
       "      <th>Other</th>\n",
       "      <th>Polyketide</th>\n",
       "      <th>RiPP</th>\n",
       "      <th>Saccharide</th>\n",
       "      <th>Terpene</th>\n",
       "      <th>classes</th>\n",
       "    </tr>\n",
       "    <tr>\n",
       "      <th>contig_id</th>\n",
       "      <th></th>\n",
       "      <th></th>\n",
       "      <th></th>\n",
       "      <th></th>\n",
       "      <th></th>\n",
       "      <th></th>\n",
       "      <th></th>\n",
       "      <th></th>\n",
       "    </tr>\n",
       "  </thead>\n",
       "  <tbody>\n",
       "    <tr>\n",
       "      <th>000749207dc6a8d25a7b67282a2fe375</th>\n",
       "      <td>0.000</td>\n",
       "      <td>0.000</td>\n",
       "      <td>0.060</td>\n",
       "      <td>0.000</td>\n",
       "      <td>0.000</td>\n",
       "      <td>0.940</td>\n",
       "      <td>0.000</td>\n",
       "      <td>Saccharide</td>\n",
       "    </tr>\n",
       "    <tr>\n",
       "      <th>00244b39ef89b1f18ccf4da018657383</th>\n",
       "      <td>0.010</td>\n",
       "      <td>0.020</td>\n",
       "      <td>0.180</td>\n",
       "      <td>0.250</td>\n",
       "      <td>0.020</td>\n",
       "      <td>0.609</td>\n",
       "      <td>0.010</td>\n",
       "      <td>Saccharide</td>\n",
       "    </tr>\n",
       "    <tr>\n",
       "      <th>0024a1c619f0dba6e8420c60b6c815e7</th>\n",
       "      <td>0.000</td>\n",
       "      <td>0.920</td>\n",
       "      <td>0.020</td>\n",
       "      <td>0.030</td>\n",
       "      <td>0.030</td>\n",
       "      <td>0.000</td>\n",
       "      <td>0.000</td>\n",
       "      <td>NRP</td>\n",
       "    </tr>\n",
       "    <tr>\n",
       "      <th>002d6748dad4145b1f09ca9dc93ead44</th>\n",
       "      <td>0.000</td>\n",
       "      <td>0.040</td>\n",
       "      <td>0.050</td>\n",
       "      <td>0.076</td>\n",
       "      <td>0.044</td>\n",
       "      <td>0.780</td>\n",
       "      <td>0.010</td>\n",
       "      <td>Saccharide</td>\n",
       "    </tr>\n",
       "    <tr>\n",
       "      <th>003041bd79286a337bdd94c332198c33</th>\n",
       "      <td>0.010</td>\n",
       "      <td>0.000</td>\n",
       "      <td>0.030</td>\n",
       "      <td>0.070</td>\n",
       "      <td>0.010</td>\n",
       "      <td>0.870</td>\n",
       "      <td>0.010</td>\n",
       "      <td>Saccharide</td>\n",
       "    </tr>\n",
       "  </tbody>\n",
       "</table>\n",
       "</div>"
      ],
      "text/plain": [
       "                                  Alkaloid   NRP  Other  Polyketide  RiPP  \\\n",
       "contig_id                                                                   \n",
       "000749207dc6a8d25a7b67282a2fe375     0.000 0.000  0.060       0.000 0.000   \n",
       "00244b39ef89b1f18ccf4da018657383     0.010 0.020  0.180       0.250 0.020   \n",
       "0024a1c619f0dba6e8420c60b6c815e7     0.000 0.920  0.020       0.030 0.030   \n",
       "002d6748dad4145b1f09ca9dc93ead44     0.000 0.040  0.050       0.076 0.044   \n",
       "003041bd79286a337bdd94c332198c33     0.010 0.000  0.030       0.070 0.010   \n",
       "\n",
       "                                  Saccharide  Terpene     classes  \n",
       "contig_id                                                          \n",
       "000749207dc6a8d25a7b67282a2fe375       0.940    0.000  Saccharide  \n",
       "00244b39ef89b1f18ccf4da018657383       0.609    0.010  Saccharide  \n",
       "0024a1c619f0dba6e8420c60b6c815e7       0.000    0.000         NRP  \n",
       "002d6748dad4145b1f09ca9dc93ead44       0.780    0.010  Saccharide  \n",
       "003041bd79286a337bdd94c332198c33       0.870    0.010  Saccharide  "
      ]
     },
     "execution_count": 81,
     "metadata": {},
     "output_type": "execute_result"
    }
   ],
   "source": [
    "columns = ml_responses.columns\n",
    "results = np.array([r[:,1] for r in model.predict_proba(candidates.values)]).transpose()\n",
    "predictions = pd.DataFrame(results, index=candidates.index, columns=columns)\n",
    "predictions['classes'] = [';'.join(columns[x >= 0.5]) for x in results]\n",
    "predictions.head()"
   ]
  },
  {
   "cell_type": "code",
   "execution_count": 82,
   "metadata": {
    "collapsed": true
   },
   "outputs": [],
   "source": [
    "predictions.to_csv('../data/bacteria/candidates/{}/classes/class-domain_set-rf/classes.csv'.format(model_path))"
   ]
  },
  {
   "cell_type": "code",
   "execution_count": null,
   "metadata": {
    "collapsed": true
   },
   "outputs": [],
   "source": []
  }
 ],
 "metadata": {
  "kernelspec": {
   "display_name": "Python 3",
   "language": "python",
   "name": "python3"
  },
  "language_info": {
   "codemirror_mode": {
    "name": "ipython",
    "version": 3
   },
   "file_extension": ".py",
   "mimetype": "text/x-python",
   "name": "python",
   "nbconvert_exporter": "python",
   "pygments_lexer": "ipython3",
   "version": "3.6.3"
  }
 },
 "nbformat": 4,
 "nbformat_minor": 2
}
