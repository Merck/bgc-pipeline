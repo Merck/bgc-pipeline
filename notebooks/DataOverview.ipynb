{
 "cells": [
  {
   "cell_type": "code",
   "execution_count": 1,
   "metadata": {
    "collapsed": true
   },
   "outputs": [],
   "source": [
    "import matplotlib.pyplot as plt\n",
    "import pandas as pd\n",
    "import numpy as np"
   ]
  },
  {
   "cell_type": "code",
   "execution_count": 2,
   "metadata": {
    "collapsed": true
   },
   "outputs": [],
   "source": [
    "MAX_EVALUE = 1e-2"
   ]
  },
  {
   "cell_type": "markdown",
   "metadata": {},
   "source": [
    "# Data Overview\n",
    "\n",
    "This notebook provides an overview of source datasets - training, testing and 3k bacteria."
   ]
  },
  {
   "cell_type": "markdown",
   "metadata": {},
   "source": [
    "# Training data"
   ]
  },
  {
   "cell_type": "markdown",
   "metadata": {},
   "source": [
    "## ClusterFinder BGCs (positives)\n",
    "\n",
    "** Used for: Model training **\n",
    "\n",
    "CSV file with protein domains in genomic order. Contigs (samples) are defined by the `contig_id` column. "
   ]
  },
  {
   "cell_type": "code",
   "execution_count": 3,
   "metadata": {},
   "outputs": [
    {
     "data": {
      "text/html": [
       "<div>\n",
       "<style>\n",
       "    .dataframe thead tr:only-child th {\n",
       "        text-align: right;\n",
       "    }\n",
       "\n",
       "    .dataframe thead th {\n",
       "        text-align: left;\n",
       "    }\n",
       "\n",
       "    .dataframe tbody tr th {\n",
       "        vertical-align: top;\n",
       "    }\n",
       "</style>\n",
       "<table border=\"1\" class=\"dataframe\">\n",
       "  <thead>\n",
       "    <tr style=\"text-align: right;\">\n",
       "      <th></th>\n",
       "      <th>contig_id</th>\n",
       "      <th>locus_tag</th>\n",
       "      <th>protein_id</th>\n",
       "      <th>gene_start</th>\n",
       "      <th>gene_end</th>\n",
       "      <th>gene_strand</th>\n",
       "      <th>pfam_id</th>\n",
       "      <th>domain_start</th>\n",
       "      <th>domain_end</th>\n",
       "      <th>evalue</th>\n",
       "      <th>bitscore</th>\n",
       "      <th>in_cluster</th>\n",
       "    </tr>\n",
       "  </thead>\n",
       "  <tbody>\n",
       "    <tr>\n",
       "      <th>0</th>\n",
       "      <td>X62518.1</td>\n",
       "      <td>unknown_locus_tag</td>\n",
       "      <td>CAA44378.1</td>\n",
       "      <td>200</td>\n",
       "      <td>1304</td>\n",
       "      <td>1</td>\n",
       "      <td>PF04486</td>\n",
       "      <td>1</td>\n",
       "      <td>118</td>\n",
       "      <td>2.700000e-46</td>\n",
       "      <td>156.4</td>\n",
       "      <td>1</td>\n",
       "    </tr>\n",
       "    <tr>\n",
       "      <th>1</th>\n",
       "      <td>X62518.1</td>\n",
       "      <td>unknown_locus_tag</td>\n",
       "      <td>CAA44378.1</td>\n",
       "      <td>200</td>\n",
       "      <td>1304</td>\n",
       "      <td>1</td>\n",
       "      <td>PF04673</td>\n",
       "      <td>7</td>\n",
       "      <td>92</td>\n",
       "      <td>2.800000e-04</td>\n",
       "      <td>21.0</td>\n",
       "      <td>1</td>\n",
       "    </tr>\n",
       "    <tr>\n",
       "      <th>2</th>\n",
       "      <td>X62518.1</td>\n",
       "      <td>unknown_locus_tag</td>\n",
       "      <td>CAA44378.1</td>\n",
       "      <td>200</td>\n",
       "      <td>1304</td>\n",
       "      <td>1</td>\n",
       "      <td>PF03992</td>\n",
       "      <td>9</td>\n",
       "      <td>76</td>\n",
       "      <td>7.100000e-04</td>\n",
       "      <td>19.5</td>\n",
       "      <td>1</td>\n",
       "    </tr>\n",
       "    <tr>\n",
       "      <th>3</th>\n",
       "      <td>X62518.1</td>\n",
       "      <td>unknown_locus_tag</td>\n",
       "      <td>CAA44379.1</td>\n",
       "      <td>1348</td>\n",
       "      <td>1813</td>\n",
       "      <td>1</td>\n",
       "      <td>PF07883</td>\n",
       "      <td>1</td>\n",
       "      <td>68</td>\n",
       "      <td>7.800000e-21</td>\n",
       "      <td>73.5</td>\n",
       "      <td>1</td>\n",
       "    </tr>\n",
       "    <tr>\n",
       "      <th>5</th>\n",
       "      <td>X62518.1</td>\n",
       "      <td>unknown_locus_tag</td>\n",
       "      <td>CAA44379.1</td>\n",
       "      <td>1348</td>\n",
       "      <td>1813</td>\n",
       "      <td>1</td>\n",
       "      <td>PF02311</td>\n",
       "      <td>9</td>\n",
       "      <td>68</td>\n",
       "      <td>4.000000e-07</td>\n",
       "      <td>29.9</td>\n",
       "      <td>1</td>\n",
       "    </tr>\n",
       "  </tbody>\n",
       "</table>\n",
       "</div>"
      ],
      "text/plain": [
       "  contig_id          locus_tag  protein_id  gene_start  gene_end  gene_strand  \\\n",
       "0  X62518.1  unknown_locus_tag  CAA44378.1         200      1304            1   \n",
       "1  X62518.1  unknown_locus_tag  CAA44378.1         200      1304            1   \n",
       "2  X62518.1  unknown_locus_tag  CAA44378.1         200      1304            1   \n",
       "3  X62518.1  unknown_locus_tag  CAA44379.1        1348      1813            1   \n",
       "5  X62518.1  unknown_locus_tag  CAA44379.1        1348      1813            1   \n",
       "\n",
       "   pfam_id  domain_start  domain_end        evalue  bitscore  in_cluster  \n",
       "0  PF04486             1         118  2.700000e-46     156.4           1  \n",
       "1  PF04673             7          92  2.800000e-04      21.0           1  \n",
       "2  PF03992             9          76  7.100000e-04      19.5           1  \n",
       "3  PF07883             1          68  7.800000e-21      73.5           1  \n",
       "5  PF02311             9          68  4.000000e-07      29.9           1  "
      ]
     },
     "execution_count": 3,
     "metadata": {},
     "output_type": "execute_result"
    }
   ],
   "source": [
    "domains = pd.read_csv('../data/training/positive/CF_bgcs.csv')\n",
    "domains = domains[domains['evalue'] <= MAX_EVALUE]\n",
    "domains.head()"
   ]
  },
  {
   "cell_type": "code",
   "execution_count": 4,
   "metadata": {},
   "outputs": [
    {
     "data": {
      "text/plain": [
       "617"
      ]
     },
     "execution_count": 4,
     "metadata": {},
     "output_type": "execute_result"
    }
   ],
   "source": [
    "num_contigs = len(domains['contig_id'].unique())\n",
    "num_contigs"
   ]
  },
  {
   "cell_type": "code",
   "execution_count": 5,
   "metadata": {},
   "outputs": [
    {
     "data": {
      "image/png": "[encoded data removed]",
      "text/plain": [
       "<matplotlib.figure.Figure at 0x10cf5ae10>"
      ]
     },
     "metadata": {},
     "output_type": "display_data"
    }
   ],
   "source": [
    "contig_proteins = domains.groupby(\"contig_id\")['protein_id'].nunique()\n",
    "fig, axes = plt.subplots(1, 2, figsize=(12, 4))\n",
    "ax = contig_proteins.hist(bins=40, ax=axes[0])\n",
    "ax.set_xlabel('# proteins in BGC sample')\n",
    "ax.set_ylabel('Frequency')\n",
    "ax = contig_proteins.hist(bins=100, ax=axes[1], cumulative=True)\n",
    "ax.set_xlabel('# proteins in BGC sample')\n",
    "ax.set_ylabel('Cumulative frequency')\n",
    "plt.tight_layout()"
   ]
  },
  {
   "cell_type": "code",
   "execution_count": 6,
   "metadata": {},
   "outputs": [
    {
     "data": {
      "text/plain": [
       "Text(0,0.5,'Frequency')"
      ]
     },
     "execution_count": 6,
     "metadata": {},
     "output_type": "execute_result"
    },
    {
     "data": {
      "image/png": "[encoded data removed]",
      "text/plain": [
       "<matplotlib.figure.Figure at 0x10cf5b9b0>"
      ]
     },
     "metadata": {},
     "output_type": "display_data"
    }
   ],
   "source": [
    "contig_domains = domains.groupby(\"contig_id\")['pfam_id'].size()\n",
    "ax = contig_domains.hist(bins=20)\n",
    "ax.set_xlabel('# domains in BGC sample')\n",
    "ax.set_ylabel('Frequency')"
   ]
  },
  {
   "cell_type": "markdown",
   "metadata": {},
   "source": [
    "## MIBiG BGCs (positives)\n",
    "\n",
    "** Used for: LCO validation, 10-fold Cross-validation **\n",
    "\n",
    "CSV file with protein domains in genomic order. Contigs (samples) are defined by the `contig_id` column. \n"
   ]
  },
  {
   "cell_type": "code",
   "execution_count": 9,
   "metadata": {},
   "outputs": [
    {
     "data": {
      "text/html": [
       "<div>\n",
       "<style>\n",
       "    .dataframe thead tr:only-child th {\n",
       "        text-align: right;\n",
       "    }\n",
       "\n",
       "    .dataframe thead th {\n",
       "        text-align: left;\n",
       "    }\n",
       "\n",
       "    .dataframe tbody tr th {\n",
       "        vertical-align: top;\n",
       "    }\n",
       "</style>\n",
       "<table border=\"1\" class=\"dataframe\">\n",
       "  <thead>\n",
       "    <tr style=\"text-align: right;\">\n",
       "      <th></th>\n",
       "      <th>contig_id</th>\n",
       "      <th>locus_tag</th>\n",
       "      <th>protein_id</th>\n",
       "      <th>gene_start</th>\n",
       "      <th>gene_end</th>\n",
       "      <th>gene_strand</th>\n",
       "      <th>pfam_id</th>\n",
       "      <th>domain_start</th>\n",
       "      <th>domain_end</th>\n",
       "      <th>evalue</th>\n",
       "      <th>bitscore</th>\n",
       "      <th>in_cluster</th>\n",
       "    </tr>\n",
       "  </thead>\n",
       "  <tbody>\n",
       "    <tr>\n",
       "      <th>0</th>\n",
       "      <td>BGC0000001.1</td>\n",
       "      <td>unknown_locus_tag</td>\n",
       "      <td>AEK75490.1</td>\n",
       "      <td>0</td>\n",
       "      <td>1083</td>\n",
       "      <td>1</td>\n",
       "      <td>PF13649</td>\n",
       "      <td>0</td>\n",
       "      <td>73</td>\n",
       "      <td>5.000000e-08</td>\n",
       "      <td>33.4</td>\n",
       "      <td>1</td>\n",
       "    </tr>\n",
       "    <tr>\n",
       "      <th>1</th>\n",
       "      <td>BGC0000001.1</td>\n",
       "      <td>unknown_locus_tag</td>\n",
       "      <td>AEK75490.1</td>\n",
       "      <td>0</td>\n",
       "      <td>1083</td>\n",
       "      <td>1</td>\n",
       "      <td>PF08241</td>\n",
       "      <td>0</td>\n",
       "      <td>51</td>\n",
       "      <td>2.300000e-03</td>\n",
       "      <td>18.5</td>\n",
       "      <td>1</td>\n",
       "    </tr>\n",
       "    <tr>\n",
       "      <th>2</th>\n",
       "      <td>BGC0000001.1</td>\n",
       "      <td>unknown_locus_tag</td>\n",
       "      <td>AEK75490.1</td>\n",
       "      <td>0</td>\n",
       "      <td>1083</td>\n",
       "      <td>1</td>\n",
       "      <td>PF13847</td>\n",
       "      <td>3</td>\n",
       "      <td>63</td>\n",
       "      <td>1.100000e-09</td>\n",
       "      <td>38.2</td>\n",
       "      <td>1</td>\n",
       "    </tr>\n",
       "    <tr>\n",
       "      <th>3</th>\n",
       "      <td>BGC0000001.1</td>\n",
       "      <td>unknown_locus_tag</td>\n",
       "      <td>AEK75490.1</td>\n",
       "      <td>0</td>\n",
       "      <td>1083</td>\n",
       "      <td>1</td>\n",
       "      <td>PF13489</td>\n",
       "      <td>12</td>\n",
       "      <td>62</td>\n",
       "      <td>5.100000e-04</td>\n",
       "      <td>19.8</td>\n",
       "      <td>1</td>\n",
       "    </tr>\n",
       "    <tr>\n",
       "      <th>4</th>\n",
       "      <td>BGC0000001.1</td>\n",
       "      <td>unknown_locus_tag</td>\n",
       "      <td>AEK75490.1</td>\n",
       "      <td>0</td>\n",
       "      <td>1083</td>\n",
       "      <td>1</td>\n",
       "      <td>PF02353</td>\n",
       "      <td>35</td>\n",
       "      <td>109</td>\n",
       "      <td>9.000000e-03</td>\n",
       "      <td>15.2</td>\n",
       "      <td>1</td>\n",
       "    </tr>\n",
       "  </tbody>\n",
       "</table>\n",
       "</div>"
      ],
      "text/plain": [
       "      contig_id          locus_tag  protein_id  gene_start  gene_end  \\\n",
       "0  BGC0000001.1  unknown_locus_tag  AEK75490.1           0      1083   \n",
       "1  BGC0000001.1  unknown_locus_tag  AEK75490.1           0      1083   \n",
       "2  BGC0000001.1  unknown_locus_tag  AEK75490.1           0      1083   \n",
       "3  BGC0000001.1  unknown_locus_tag  AEK75490.1           0      1083   \n",
       "4  BGC0000001.1  unknown_locus_tag  AEK75490.1           0      1083   \n",
       "\n",
       "   gene_strand  pfam_id  domain_start  domain_end        evalue  bitscore  \\\n",
       "0            1  PF13649             0          73  5.000000e-08      33.4   \n",
       "1            1  PF08241             0          51  2.300000e-03      18.5   \n",
       "2            1  PF13847             3          63  1.100000e-09      38.2   \n",
       "3            1  PF13489            12          62  5.100000e-04      19.8   \n",
       "4            1  PF02353            35         109  9.000000e-03      15.2   \n",
       "\n",
       "   in_cluster  \n",
       "0           1  \n",
       "1           1  \n",
       "2           1  \n",
       "3           1  \n",
       "4           1  "
      ]
     },
     "execution_count": 9,
     "metadata": {},
     "output_type": "execute_result"
    }
   ],
   "source": [
    "domains = pd.read_csv('../data/training/positive/mibig_bgcs_all.csv')\n",
    "domains = domains[domains['evalue'] <= MAX_EVALUE]\n",
    "domains.head()"
   ]
  },
  {
   "cell_type": "code",
   "execution_count": 10,
   "metadata": {},
   "outputs": [
    {
     "data": {
      "text/plain": [
       "1551"
      ]
     },
     "execution_count": 10,
     "metadata": {},
     "output_type": "execute_result"
    }
   ],
   "source": [
    "num_contigs = len(domains['contig_id'].unique())\n",
    "num_contigs"
   ]
  },
  {
   "cell_type": "code",
   "execution_count": 11,
   "metadata": {},
   "outputs": [
    {
     "data": {
      "image/png": "[encoded data removed]",
      "text/plain": [
       "<matplotlib.figure.Figure at 0x10cf5b2e8>"
      ]
     },
     "metadata": {},
     "output_type": "display_data"
    }
   ],
   "source": [
    "contig_proteins = domains.groupby(\"contig_id\")['protein_id'].nunique()\n",
    "fig, axes = plt.subplots(1, 2, figsize=(12, 4))\n",
    "ax = contig_proteins.hist(bins=40, ax=axes[0])\n",
    "ax.set_xlabel('# proteins in BGC sample')\n",
    "ax.set_ylabel('Frequency')\n",
    "ax = contig_proteins.hist(bins=100, ax=axes[1], cumulative=True)\n",
    "ax.set_xlabel('# proteins in BGC sample')\n",
    "ax.set_ylabel('Cumulative frequency')\n",
    "plt.tight_layout()"
   ]
  },
  {
   "cell_type": "code",
   "execution_count": 12,
   "metadata": {},
   "outputs": [
    {
     "data": {
      "text/plain": [
       "Text(0,0.5,'Frequency')"
      ]
     },
     "execution_count": 12,
     "metadata": {},
     "output_type": "execute_result"
    },
    {
     "data": {
      "image/png": "[encoded data removed]",
      "text/plain": [
       "<matplotlib.figure.Figure at 0x10cf5b588>"
      ]
     },
     "metadata": {},
     "output_type": "display_data"
    }
   ],
   "source": [
    "contig_domains = domains.groupby(\"contig_id\")['pfam_id'].size()\n",
    "ax = contig_domains.hist(bins=20)\n",
    "ax.set_xlabel('# domains in BGC sample')\n",
    "ax.set_ylabel('Frequency')"
   ]
  },
  {
   "cell_type": "code",
   "execution_count": 16,
   "metadata": {},
   "outputs": [
    {
     "data": {
      "text/plain": [
       "count    1551.000000\n",
       "mean       47.539652\n",
       "std        44.314356\n",
       "min         1.000000\n",
       "0%          1.000000\n",
       "5%          2.000000\n",
       "10%         5.000000\n",
       "15.0%       8.000000\n",
       "20%        11.000000\n",
       "25%        14.000000\n",
       "30.0%      17.000000\n",
       "35%        21.000000\n",
       "40%        25.000000\n",
       "45%        29.000000\n",
       "50%        35.000000\n",
       "55.0%      40.000000\n",
       "60.0%      45.000000\n",
       "65%        52.500000\n",
       "70%        61.000000\n",
       "75%        69.000000\n",
       "80%        78.000000\n",
       "85.0%      91.500000\n",
       "90%       109.000000\n",
       "95%       134.000000\n",
       "max       309.000000\n",
       "Name: pfam_id, dtype: float64"
      ]
     },
     "execution_count": 16,
     "metadata": {},
     "output_type": "execute_result"
    }
   ],
   "source": [
    "contig_domains.describe(percentiles=np.arange(0, 1, 0.05))"
   ]
  },
  {
   "cell_type": "code",
   "execution_count": 12,
   "metadata": {},
   "outputs": [
    {
     "data": {
      "text/html": [
       "<div>\n",
       "<style>\n",
       "    .dataframe thead tr:only-child th {\n",
       "        text-align: right;\n",
       "    }\n",
       "\n",
       "    .dataframe thead th {\n",
       "        text-align: left;\n",
       "    }\n",
       "\n",
       "    .dataframe tbody tr th {\n",
       "        vertical-align: top;\n",
       "    }\n",
       "</style>\n",
       "<table border=\"1\" class=\"dataframe\">\n",
       "  <thead>\n",
       "    <tr style=\"text-align: right;\">\n",
       "      <th></th>\n",
       "      <th>BGC_ID</th>\n",
       "      <th>contig_id</th>\n",
       "      <th>num_proteins</th>\n",
       "      <th>classes</th>\n",
       "      <th>source</th>\n",
       "      <th>species</th>\n",
       "    </tr>\n",
       "  </thead>\n",
       "  <tbody>\n",
       "    <tr>\n",
       "      <th>0</th>\n",
       "      <td>BGC0000001</td>\n",
       "      <td>BGC0000001.1</td>\n",
       "      <td>28</td>\n",
       "      <td>Polyketide</td>\n",
       "      <td>Verrucosispora maris AB-18-032</td>\n",
       "      <td>Verrucosispora</td>\n",
       "    </tr>\n",
       "    <tr>\n",
       "      <th>1</th>\n",
       "      <td>BGC0000002</td>\n",
       "      <td>BGC0000002.1</td>\n",
       "      <td>34</td>\n",
       "      <td>Polyketide</td>\n",
       "      <td>Kutzneria albida DSM 43870</td>\n",
       "      <td>Kutzneria</td>\n",
       "    </tr>\n",
       "    <tr>\n",
       "      <th>2</th>\n",
       "      <td>BGC0000003</td>\n",
       "      <td>BGC0000003.1</td>\n",
       "      <td>6</td>\n",
       "      <td>Polyketide</td>\n",
       "      <td>Alternaria alternata</td>\n",
       "      <td>Alternaria</td>\n",
       "    </tr>\n",
       "    <tr>\n",
       "      <th>3</th>\n",
       "      <td>BGC0000004</td>\n",
       "      <td>BGC0000004.1</td>\n",
       "      <td>23</td>\n",
       "      <td>Polyketide</td>\n",
       "      <td>Aspergillus oryzae</td>\n",
       "      <td>Aspergillus</td>\n",
       "    </tr>\n",
       "    <tr>\n",
       "      <th>4</th>\n",
       "      <td>BGC0000005</td>\n",
       "      <td>BGC0000005.1</td>\n",
       "      <td>1</td>\n",
       "      <td>Polyketide</td>\n",
       "      <td>Aspergillus parasiticus</td>\n",
       "      <td>Aspergillus</td>\n",
       "    </tr>\n",
       "  </tbody>\n",
       "</table>\n",
       "</div>"
      ],
      "text/plain": [
       "       BGC_ID     contig_id  num_proteins     classes  \\\n",
       "0  BGC0000001  BGC0000001.1            28  Polyketide   \n",
       "1  BGC0000002  BGC0000002.1            34  Polyketide   \n",
       "2  BGC0000003  BGC0000003.1             6  Polyketide   \n",
       "3  BGC0000004  BGC0000004.1            23  Polyketide   \n",
       "4  BGC0000005  BGC0000005.1             1  Polyketide   \n",
       "\n",
       "                           source         species  \n",
       "0  Verrucosispora maris AB-18-032  Verrucosispora  \n",
       "1      Kutzneria albida DSM 43870       Kutzneria  \n",
       "2            Alternaria alternata      Alternaria  \n",
       "3              Aspergillus oryzae     Aspergillus  \n",
       "4         Aspergillus parasiticus     Aspergillus  "
      ]
     },
     "execution_count": 12,
     "metadata": {},
     "output_type": "execute_result"
    }
   ],
   "source": [
    "properties = pd.read_csv('../data/mibig/mibig_properties.csv')\n",
    "properties.head()"
   ]
  },
  {
   "cell_type": "code",
   "execution_count": 13,
   "metadata": {},
   "outputs": [
    {
     "data": {
      "text/plain": [
       "<matplotlib.axes._subplots.AxesSubplot at 0x115ac2b70>"
      ]
     },
     "execution_count": 13,
     "metadata": {},
     "output_type": "execute_result"
    },
    {
     "data": {
      "image/png": "[encoded data removed]",
      "text/plain": [
       "<matplotlib.figure.Figure at 0x115f4eb70>"
      ]
     },
     "metadata": {},
     "output_type": "display_data"
    }
   ],
   "source": [
    "properties['classes'].value_counts().plot.barh(figsize=(5, 10))"
   ]
  },
  {
   "cell_type": "code",
   "execution_count": 14,
   "metadata": {},
   "outputs": [
    {
     "name": "stdout",
     "output_type": "stream",
     "text": [
      "Polyketide    670\n",
      "NRP           444\n",
      "RiPP          207\n",
      "Saccharide    180\n",
      "Other         174\n",
      "Terpene       125\n",
      "Alkaloid       39\n",
      "?              16\n",
      "Nucleoside      1\n",
      "dtype: int64\n"
     ]
    },
    {
     "data": {
      "image/png": "[encoded data removed]",
      "text/plain": [
       "<matplotlib.figure.Figure at 0x1148b7a58>"
      ]
     },
     "metadata": {},
     "output_type": "display_data"
    }
   ],
   "source": [
    "classes_split = properties['classes'].apply(lambda c: c.split(';'))\n",
    "class_counts = pd.Series([c for classes in classes_split for c in classes]).value_counts()\n",
    "class_counts.plot.barh()\n",
    "print(class_counts)"
   ]
  },
  {
   "cell_type": "markdown",
   "metadata": {},
   "source": [
    "# GeneSwap negatives\n",
    "\n",
    "** Used for: Model training, LCO validation **"
   ]
  },
  {
   "cell_type": "code",
   "execution_count": 15,
   "metadata": {},
   "outputs": [
    {
     "data": {
      "text/html": [
       "<div>\n",
       "<style>\n",
       "    .dataframe thead tr:only-child th {\n",
       "        text-align: right;\n",
       "    }\n",
       "\n",
       "    .dataframe thead th {\n",
       "        text-align: left;\n",
       "    }\n",
       "\n",
       "    .dataframe tbody tr th {\n",
       "        vertical-align: top;\n",
       "    }\n",
       "</style>\n",
       "<table border=\"1\" class=\"dataframe\">\n",
       "  <thead>\n",
       "    <tr style=\"text-align: right;\">\n",
       "      <th></th>\n",
       "      <th>contig_id</th>\n",
       "      <th>protein_id</th>\n",
       "      <th>gene_start</th>\n",
       "      <th>gene_end</th>\n",
       "      <th>gene_strand</th>\n",
       "      <th>pfam_id</th>\n",
       "      <th>domain_start</th>\n",
       "      <th>domain_end</th>\n",
       "      <th>evalue</th>\n",
       "      <th>bitscore</th>\n",
       "      <th>in_cluster</th>\n",
       "    </tr>\n",
       "  </thead>\n",
       "  <tbody>\n",
       "    <tr>\n",
       "      <th>0</th>\n",
       "      <td>NEG_FAKE_CLUSTER|AE000511.1|AF269227.1</td>\n",
       "      <td>AE000511_1072</td>\n",
       "      <td>0</td>\n",
       "      <td>2237</td>\n",
       "      <td>1</td>\n",
       "      <td>PF00702</td>\n",
       "      <td>0.0</td>\n",
       "      <td>210.0</td>\n",
       "      <td>3.300000e-40</td>\n",
       "      <td>138.5</td>\n",
       "      <td>0</td>\n",
       "    </tr>\n",
       "    <tr>\n",
       "      <th>1</th>\n",
       "      <td>NEG_FAKE_CLUSTER|AE000511.1|AF269227.1</td>\n",
       "      <td>AE000511_1072</td>\n",
       "      <td>0</td>\n",
       "      <td>2237</td>\n",
       "      <td>1</td>\n",
       "      <td>PF00403</td>\n",
       "      <td>1.0</td>\n",
       "      <td>61.0</td>\n",
       "      <td>5.800000e-12</td>\n",
       "      <td>45.8</td>\n",
       "      <td>0</td>\n",
       "    </tr>\n",
       "    <tr>\n",
       "      <th>2</th>\n",
       "      <td>NEG_FAKE_CLUSTER|AE000511.1|AF269227.1</td>\n",
       "      <td>AE000511_1072</td>\n",
       "      <td>0</td>\n",
       "      <td>2237</td>\n",
       "      <td>1</td>\n",
       "      <td>PF00122</td>\n",
       "      <td>2.0</td>\n",
       "      <td>178.0</td>\n",
       "      <td>7.000000e-48</td>\n",
       "      <td>162.4</td>\n",
       "      <td>0</td>\n",
       "    </tr>\n",
       "    <tr>\n",
       "      <th>3</th>\n",
       "      <td>NEG_FAKE_CLUSTER|AE000511.1|AF269227.1</td>\n",
       "      <td>AE000511_1072</td>\n",
       "      <td>0</td>\n",
       "      <td>2237</td>\n",
       "      <td>1</td>\n",
       "      <td>PF08282</td>\n",
       "      <td>196.0</td>\n",
       "      <td>255.0</td>\n",
       "      <td>2.900000e-04</td>\n",
       "      <td>20.6</td>\n",
       "      <td>0</td>\n",
       "    </tr>\n",
       "    <tr>\n",
       "      <th>4</th>\n",
       "      <td>NEG_FAKE_CLUSTER|AE000511.1|AF269227.1</td>\n",
       "      <td>AE000511_1503</td>\n",
       "      <td>2237</td>\n",
       "      <td>4870</td>\n",
       "      <td>1</td>\n",
       "      <td>PF00593</td>\n",
       "      <td>1.0</td>\n",
       "      <td>469.0</td>\n",
       "      <td>2.200000e-26</td>\n",
       "      <td>93.7</td>\n",
       "      <td>0</td>\n",
       "    </tr>\n",
       "  </tbody>\n",
       "</table>\n",
       "</div>"
      ],
      "text/plain": [
       "                                contig_id     protein_id  gene_start  \\\n",
       "0  NEG_FAKE_CLUSTER|AE000511.1|AF269227.1  AE000511_1072           0   \n",
       "1  NEG_FAKE_CLUSTER|AE000511.1|AF269227.1  AE000511_1072           0   \n",
       "2  NEG_FAKE_CLUSTER|AE000511.1|AF269227.1  AE000511_1072           0   \n",
       "3  NEG_FAKE_CLUSTER|AE000511.1|AF269227.1  AE000511_1072           0   \n",
       "4  NEG_FAKE_CLUSTER|AE000511.1|AF269227.1  AE000511_1503        2237   \n",
       "\n",
       "   gene_end  gene_strand  pfam_id  domain_start  domain_end        evalue  \\\n",
       "0      2237            1  PF00702           0.0       210.0  3.300000e-40   \n",
       "1      2237            1  PF00403           1.0        61.0  5.800000e-12   \n",
       "2      2237            1  PF00122           2.0       178.0  7.000000e-48   \n",
       "3      2237            1  PF08282         196.0       255.0  2.900000e-04   \n",
       "4      4870            1  PF00593           1.0       469.0  2.200000e-26   \n",
       "\n",
       "   bitscore  in_cluster  \n",
       "0     138.5           0  \n",
       "1      45.8           0  \n",
       "2     162.4           0  \n",
       "3      20.6           0  \n",
       "4      93.7           0  "
      ]
     },
     "execution_count": 15,
     "metadata": {},
     "output_type": "execute_result"
    }
   ],
   "source": [
    "domains = pd.read_csv('../data/training/negative/geneswap_negatives.csv')\n",
    "domains = domains[domains['evalue'] <= MAX_EVALUE]\n",
    "domains.head()"
   ]
  },
  {
   "cell_type": "code",
   "execution_count": 16,
   "metadata": {},
   "outputs": [
    {
     "data": {
      "text/plain": [
       "10128"
      ]
     },
     "execution_count": 16,
     "metadata": {},
     "output_type": "execute_result"
    }
   ],
   "source": [
    "num_contigs = len(domains['contig_id'].unique())\n",
    "num_contigs"
   ]
  },
  {
   "cell_type": "code",
   "execution_count": 17,
   "metadata": {},
   "outputs": [
    {
     "data": {
      "image/png": "[encoded data removed]",
      "text/plain": [
       "<matplotlib.figure.Figure at 0x1118bb278>"
      ]
     },
     "metadata": {},
     "output_type": "display_data"
    }
   ],
   "source": [
    "contig_proteins = domains.groupby(\"contig_id\")['protein_id'].nunique()\n",
    "fig, axes = plt.subplots(1, 2, figsize=(12, 4))\n",
    "ax = contig_proteins.hist(bins=40, ax=axes[0])\n",
    "ax.set_xlabel('# proteins in negative sample')\n",
    "ax.set_ylabel('Frequency')\n",
    "ax = contig_proteins.hist(bins=100, ax=axes[1], cumulative=True)\n",
    "ax.set_xlabel('# proteins in negative sample')\n",
    "ax.set_ylabel('Cumulative frequency')\n",
    "plt.tight_layout()"
   ]
  },
  {
   "cell_type": "code",
   "execution_count": 18,
   "metadata": {},
   "outputs": [
    {
     "data": {
      "text/plain": [
       "Text(0,0.5,'Frequency')"
      ]
     },
     "execution_count": 18,
     "metadata": {},
     "output_type": "execute_result"
    },
    {
     "data": {
      "image/png": "[encoded data removed]",
      "text/plain": [
       "<matplotlib.figure.Figure at 0x114cf42b0>"
      ]
     },
     "metadata": {},
     "output_type": "display_data"
    }
   ],
   "source": [
    "contig_domains = domains.groupby(\"contig_id\")['pfam_id'].size()\n",
    "ax = contig_domains.hist(bins=20)\n",
    "ax.set_xlabel('# domains in negative sample')\n",
    "ax.set_ylabel('Frequency')"
   ]
  },
  {
   "cell_type": "markdown",
   "metadata": {},
   "source": [
    "# Validation and testing data"
   ]
  },
  {
   "cell_type": "markdown",
   "metadata": {},
   "source": [
    "## ClusterFinder labelled contigs\n",
    "\n",
    "** Used for: Model validation - ROC curves **\n",
    "\n",
    "10 labelled genomes (13 contigs) with non-BGC and BGC regions (stored in `in_cluster` column for each domain)"
   ]
  },
  {
   "cell_type": "code",
   "execution_count": 21,
   "metadata": {},
   "outputs": [
    {
     "data": {
      "text/html": [
       "<div>\n",
       "<style>\n",
       "    .dataframe thead tr:only-child th {\n",
       "        text-align: right;\n",
       "    }\n",
       "\n",
       "    .dataframe thead th {\n",
       "        text-align: left;\n",
       "    }\n",
       "\n",
       "    .dataframe tbody tr th {\n",
       "        vertical-align: top;\n",
       "    }\n",
       "</style>\n",
       "<table border=\"1\" class=\"dataframe\">\n",
       "  <thead>\n",
       "    <tr style=\"text-align: right;\">\n",
       "      <th></th>\n",
       "      <th>NCBI ID</th>\n",
       "      <th>Genome ID</th>\n",
       "      <th>contig id</th>\n",
       "      <th>First matched gene locus</th>\n",
       "      <th>Comment</th>\n",
       "    </tr>\n",
       "  </thead>\n",
       "  <tbody>\n",
       "    <tr>\n",
       "      <th>0</th>\n",
       "      <td>KK037166.1</td>\n",
       "      <td>Kutzneria_sp_744</td>\n",
       "      <td>7000000120755710</td>\n",
       "      <td>KUTG_00017</td>\n",
       "      <td>NaN</td>\n",
       "    </tr>\n",
       "    <tr>\n",
       "      <th>1</th>\n",
       "      <td>GG657738.1</td>\n",
       "      <td>Micro_carb_varATCC39149</td>\n",
       "      <td>7000000100042090</td>\n",
       "      <td>MCAG_00263</td>\n",
       "      <td>NaN</td>\n",
       "    </tr>\n",
       "    <tr>\n",
       "      <th>2</th>\n",
       "      <td>?</td>\n",
       "      <td>Micromonospora_M42_V1</td>\n",
       "      <td>7000000120751190</td>\n",
       "      <td>MCBG_06048</td>\n",
       "      <td>Single gene found in KK037235.1</td>\n",
       "    </tr>\n",
       "    <tr>\n",
       "      <th>3</th>\n",
       "      <td>KK037233.1</td>\n",
       "      <td>Micromonospora_M42_V1</td>\n",
       "      <td>7000000120751200</td>\n",
       "      <td>MCBG_00001</td>\n",
       "      <td>NaN</td>\n",
       "    </tr>\n",
       "    <tr>\n",
       "      <th>4</th>\n",
       "      <td>DS999641.1</td>\n",
       "      <td>S.ghanaensis_ATCC14672_V1</td>\n",
       "      <td>7000000097658250</td>\n",
       "      <td>SSFG_00077</td>\n",
       "      <td>NaN</td>\n",
       "    </tr>\n",
       "    <tr>\n",
       "      <th>5</th>\n",
       "      <td>DS999642.1</td>\n",
       "      <td>S.ghanaensis_ATCC14672_V1</td>\n",
       "      <td>7000000097658250</td>\n",
       "      <td>SSFG_07668</td>\n",
       "      <td>NaN</td>\n",
       "    </tr>\n",
       "    <tr>\n",
       "      <th>6</th>\n",
       "      <td>DS999645.1</td>\n",
       "      <td>StrAlb_J1074_V3</td>\n",
       "      <td>7000000097658260</td>\n",
       "      <td>SSHG_00007</td>\n",
       "      <td>NaN</td>\n",
       "    </tr>\n",
       "    <tr>\n",
       "      <th>7</th>\n",
       "      <td>?</td>\n",
       "      <td>StrRos_NRRL11379_V1</td>\n",
       "      <td>7000000097766170</td>\n",
       "      <td>SSIG_00095</td>\n",
       "      <td>NaN</td>\n",
       "    </tr>\n",
       "    <tr>\n",
       "      <th>8</th>\n",
       "      <td>?</td>\n",
       "      <td>StrRos_NRRL11379_V1</td>\n",
       "      <td>7000000097766170</td>\n",
       "      <td>SSIG_06930</td>\n",
       "      <td>Found in ABYX02000001.1, but only covers 2% of...</td>\n",
       "    </tr>\n",
       "    <tr>\n",
       "      <th>9</th>\n",
       "      <td>GG657754.1</td>\n",
       "      <td>Strept_hygr_ATCC53653</td>\n",
       "      <td>7000000100418300</td>\n",
       "      <td>SSOG_00081</td>\n",
       "      <td>NaN</td>\n",
       "    </tr>\n",
       "    <tr>\n",
       "      <th>10</th>\n",
       "      <td>CM000950.1</td>\n",
       "      <td>Strept_priATCC25486_V1</td>\n",
       "      <td>7000000114134910</td>\n",
       "      <td>SSDG_00854</td>\n",
       "      <td>NaN</td>\n",
       "    </tr>\n",
       "    <tr>\n",
       "      <th>11</th>\n",
       "      <td>GG657746.1</td>\n",
       "      <td>Strept_sp_AA4</td>\n",
       "      <td>7000000099512580</td>\n",
       "      <td>SSMG_00038</td>\n",
       "      <td>NaN</td>\n",
       "    </tr>\n",
       "    <tr>\n",
       "      <th>12</th>\n",
       "      <td>GG657747.1</td>\n",
       "      <td>Strept_sp_AA4</td>\n",
       "      <td>7000000099512580</td>\n",
       "      <td>SSMG_07851</td>\n",
       "      <td>NaN</td>\n",
       "    </tr>\n",
       "    <tr>\n",
       "      <th>13</th>\n",
       "      <td>GG657750.1</td>\n",
       "      <td>Strept_sp_C</td>\n",
       "      <td>7000000099512570</td>\n",
       "      <td>SSNG_00382</td>\n",
       "      <td>NaN</td>\n",
       "    </tr>\n",
       "    <tr>\n",
       "      <th>14</th>\n",
       "      <td>GG657751.1</td>\n",
       "      <td>Strept_sp_C</td>\n",
       "      <td>7000000099512570</td>\n",
       "      <td>SSNG_06861</td>\n",
       "      <td>NaN</td>\n",
       "    </tr>\n",
       "    <tr>\n",
       "      <th>15</th>\n",
       "      <td>GG657752.1</td>\n",
       "      <td>Strept_sp_C</td>\n",
       "      <td>7000000099512580</td>\n",
       "      <td>SSNG_07304</td>\n",
       "      <td>NaN</td>\n",
       "    </tr>\n",
       "  </tbody>\n",
       "</table>\n",
       "</div>"
      ],
      "text/plain": [
       "       NCBI ID                  Genome ID         contig id  \\\n",
       "0   KK037166.1           Kutzneria_sp_744  7000000120755710   \n",
       "1   GG657738.1    Micro_carb_varATCC39149  7000000100042090   \n",
       "2            ?      Micromonospora_M42_V1  7000000120751190   \n",
       "3   KK037233.1      Micromonospora_M42_V1  7000000120751200   \n",
       "4   DS999641.1  S.ghanaensis_ATCC14672_V1  7000000097658250   \n",
       "5   DS999642.1  S.ghanaensis_ATCC14672_V1  7000000097658250   \n",
       "6   DS999645.1            StrAlb_J1074_V3  7000000097658260   \n",
       "7            ?        StrRos_NRRL11379_V1  7000000097766170   \n",
       "8            ?        StrRos_NRRL11379_V1  7000000097766170   \n",
       "9   GG657754.1      Strept_hygr_ATCC53653  7000000100418300   \n",
       "10  CM000950.1     Strept_priATCC25486_V1  7000000114134910   \n",
       "11  GG657746.1              Strept_sp_AA4  7000000099512580   \n",
       "12  GG657747.1              Strept_sp_AA4  7000000099512580   \n",
       "13  GG657750.1                Strept_sp_C  7000000099512570   \n",
       "14  GG657751.1                Strept_sp_C  7000000099512570   \n",
       "15  GG657752.1                Strept_sp_C  7000000099512580   \n",
       "\n",
       "   First matched gene locus                                            Comment  \n",
       "0                KUTG_00017                                                NaN  \n",
       "1                MCAG_00263                                                NaN  \n",
       "2                MCBG_06048                    Single gene found in KK037235.1  \n",
       "3                MCBG_00001                                                NaN  \n",
       "4                SSFG_00077                                                NaN  \n",
       "5                SSFG_07668                                                NaN  \n",
       "6                SSHG_00007                                                NaN  \n",
       "7                SSIG_00095                                                NaN  \n",
       "8                SSIG_06930  Found in ABYX02000001.1, but only covers 2% of...  \n",
       "9                SSOG_00081                                                NaN  \n",
       "10               SSDG_00854                                                NaN  \n",
       "11              SSMG_00038                                                 NaN  \n",
       "12               SSMG_07851                                                NaN  \n",
       "13               SSNG_00382                                                NaN  \n",
       "14               SSNG_06861                                                NaN  \n",
       "15               SSNG_07304                                                NaN  "
      ]
     },
     "execution_count": 21,
     "metadata": {},
     "output_type": "execute_result"
    }
   ],
   "source": [
    "contigs = pd.read_csv('../data/clusterfinder/labelled/CF_labelled_contig_summary.csv', sep=';')\n",
    "contigs"
   ]
  },
  {
   "cell_type": "code",
   "execution_count": 24,
   "metadata": {},
   "outputs": [
    {
     "data": {
      "text/html": [
       "<div>\n",
       "<style>\n",
       "    .dataframe thead tr:only-child th {\n",
       "        text-align: right;\n",
       "    }\n",
       "\n",
       "    .dataframe thead th {\n",
       "        text-align: left;\n",
       "    }\n",
       "\n",
       "    .dataframe tbody tr th {\n",
       "        vertical-align: top;\n",
       "    }\n",
       "</style>\n",
       "<table border=\"1\" class=\"dataframe\">\n",
       "  <thead>\n",
       "    <tr style=\"text-align: right;\">\n",
       "      <th></th>\n",
       "      <th>contig_id</th>\n",
       "      <th>locus_tag</th>\n",
       "      <th>protein_id</th>\n",
       "      <th>gene_start</th>\n",
       "      <th>gene_end</th>\n",
       "      <th>gene_strand</th>\n",
       "      <th>pfam_id</th>\n",
       "      <th>domain_start</th>\n",
       "      <th>domain_end</th>\n",
       "      <th>evalue</th>\n",
       "      <th>bitscore</th>\n",
       "      <th>in_cluster</th>\n",
       "    </tr>\n",
       "  </thead>\n",
       "  <tbody>\n",
       "    <tr>\n",
       "      <th>0</th>\n",
       "      <td>CM000950.1</td>\n",
       "      <td>SSDG_00780</td>\n",
       "      <td>EDY62461.1</td>\n",
       "      <td>13</td>\n",
       "      <td>1003</td>\n",
       "      <td>1</td>\n",
       "      <td>PF13515</td>\n",
       "      <td>3</td>\n",
       "      <td>127</td>\n",
       "      <td>1.200000e-12</td>\n",
       "      <td>48.0</td>\n",
       "      <td>0.0</td>\n",
       "    </tr>\n",
       "    <tr>\n",
       "      <th>3</th>\n",
       "      <td>CM000950.1</td>\n",
       "      <td>SSDG_00782</td>\n",
       "      <td>EDY62463.1</td>\n",
       "      <td>1211</td>\n",
       "      <td>2039</td>\n",
       "      <td>1</td>\n",
       "      <td>PF08241</td>\n",
       "      <td>0</td>\n",
       "      <td>95</td>\n",
       "      <td>1.900000e-14</td>\n",
       "      <td>53.9</td>\n",
       "      <td>0.0</td>\n",
       "    </tr>\n",
       "    <tr>\n",
       "      <th>4</th>\n",
       "      <td>CM000950.1</td>\n",
       "      <td>SSDG_00782</td>\n",
       "      <td>EDY62463.1</td>\n",
       "      <td>1211</td>\n",
       "      <td>2039</td>\n",
       "      <td>1</td>\n",
       "      <td>PF08242</td>\n",
       "      <td>0</td>\n",
       "      <td>99</td>\n",
       "      <td>5.100000e-12</td>\n",
       "      <td>46.3</td>\n",
       "      <td>0.0</td>\n",
       "    </tr>\n",
       "    <tr>\n",
       "      <th>5</th>\n",
       "      <td>CM000950.1</td>\n",
       "      <td>SSDG_00782</td>\n",
       "      <td>EDY62463.1</td>\n",
       "      <td>1211</td>\n",
       "      <td>2039</td>\n",
       "      <td>1</td>\n",
       "      <td>PF13649</td>\n",
       "      <td>1</td>\n",
       "      <td>97</td>\n",
       "      <td>4.500000e-12</td>\n",
       "      <td>46.4</td>\n",
       "      <td>0.0</td>\n",
       "    </tr>\n",
       "    <tr>\n",
       "      <th>6</th>\n",
       "      <td>CM000950.1</td>\n",
       "      <td>SSDG_00782</td>\n",
       "      <td>EDY62463.1</td>\n",
       "      <td>1211</td>\n",
       "      <td>2039</td>\n",
       "      <td>1</td>\n",
       "      <td>PF13847</td>\n",
       "      <td>5</td>\n",
       "      <td>128</td>\n",
       "      <td>8.300000e-11</td>\n",
       "      <td>41.8</td>\n",
       "      <td>0.0</td>\n",
       "    </tr>\n",
       "  </tbody>\n",
       "</table>\n",
       "</div>"
      ],
      "text/plain": [
       "    contig_id   locus_tag  protein_id  gene_start  gene_end  gene_strand  \\\n",
       "0  CM000950.1  SSDG_00780  EDY62461.1          13      1003            1   \n",
       "3  CM000950.1  SSDG_00782  EDY62463.1        1211      2039            1   \n",
       "4  CM000950.1  SSDG_00782  EDY62463.1        1211      2039            1   \n",
       "5  CM000950.1  SSDG_00782  EDY62463.1        1211      2039            1   \n",
       "6  CM000950.1  SSDG_00782  EDY62463.1        1211      2039            1   \n",
       "\n",
       "   pfam_id  domain_start  domain_end        evalue  bitscore  in_cluster  \n",
       "0  PF13515             3         127  1.200000e-12      48.0         0.0  \n",
       "3  PF08241             0          95  1.900000e-14      53.9         0.0  \n",
       "4  PF08242             0          99  5.100000e-12      46.3         0.0  \n",
       "5  PF13649             1          97  4.500000e-12      46.4         0.0  \n",
       "6  PF13847             5         128  8.300000e-11      41.8         0.0  "
      ]
     },
     "execution_count": 24,
     "metadata": {},
     "output_type": "execute_result"
    }
   ],
   "source": [
    "domains = pd.read_csv('../data/clusterfinder/labelled/CF_labelled_contigs_domains.csv')\n",
    "domains = domains[domains['evalue'] <= MAX_EVALUE]\n",
    "domains.head()"
   ]
  },
  {
   "cell_type": "code",
   "execution_count": 46,
   "metadata": {
    "collapsed": true
   },
   "outputs": [],
   "source": [
    "def count_y_clusters(y):\n",
    "    prev = 0\n",
    "    clusters = 0\n",
    "    for val in y:\n",
    "        if val == 1 and prev == 0:\n",
    "            clusters += 1\n",
    "        prev = val\n",
    "    return clusters"
   ]
  },
  {
   "cell_type": "markdown",
   "metadata": {},
   "source": [
    "### non-BGC and BGC regions"
   ]
  },
  {
   "cell_type": "code",
   "execution_count": 47,
   "metadata": {},
   "outputs": [
    {
     "data": {
      "image/png": "[encoded data removed]",
      "text/plain": [
       "<matplotlib.figure.Figure at 0x1226c4a58>"
      ]
     },
     "metadata": {},
     "output_type": "display_data"
    },
    {
     "data": {
      "image/png": "[encoded data removed]",
      "text/plain": [
       "<matplotlib.figure.Figure at 0x1226a9748>"
      ]
     },
     "metadata": {},
     "output_type": "display_data"
    },
    {
     "data": {
      "image/png": "[encoded data removed]",
      "text/plain": [
       "<matplotlib.figure.Figure at 0x1164159b0>"
      ]
     },
     "metadata": {},
     "output_type": "display_data"
    },
    {
     "data": {
      "image/png": "[encoded data removed]",
      "text/plain": [
       "<matplotlib.figure.Figure at 0x11fde4400>"
      ]
     },
     "metadata": {},
     "output_type": "display_data"
    },
    {
     "data": {
      "image/png": "[encoded data removed]",
      "text/plain": [
       "<matplotlib.figure.Figure at 0x11ff01320>"
      ]
     },
     "metadata": {},
     "output_type": "display_data"
    },
    {
     "data": {
      "image/png": "[encoded data removed]",
      "text/plain": [
       "<matplotlib.figure.Figure at 0x11fdcda58>"
      ]
     },
     "metadata": {},
     "output_type": "display_data"
    },
    {
     "data": {
      "image/png": "[encoded data removed]",
      "text/plain": [
       "<matplotlib.figure.Figure at 0x11fdbec50>"
      ]
     },
     "metadata": {},
     "output_type": "display_data"
    },
    {
     "data": {
      "image/png": "[encoded data removed]",
      "text/plain": [
       "<matplotlib.figure.Figure at 0x11fdc2240>"
      ]
     },
     "metadata": {},
     "output_type": "display_data"
    },
    {
     "data": {
      "image/png": "[encoded data removed]",
      "text/plain": [
       "<matplotlib.figure.Figure at 0x11fe145f8>"
      ]
     },
     "metadata": {},
     "output_type": "display_data"
    },
    {
     "data": {
      "image/png": "[encoded data removed]",
      "text/plain": [
       "<matplotlib.figure.Figure at 0x11e09af60>"
      ]
     },
     "metadata": {},
     "output_type": "display_data"
    },
    {
     "data": {
      "image/png": "[encoded data removed]",
      "text/plain": [
       "<matplotlib.figure.Figure at 0x11e0b3978>"
      ]
     },
     "metadata": {},
     "output_type": "display_data"
    },
    {
     "data": {
      "image/png": "[encoded data removed]",
      "text/plain": [
       "<matplotlib.figure.Figure at 0x11fe26dd8>"
      ]
     },
     "metadata": {},
     "output_type": "display_data"
    },
    {
     "data": {
      "image/png": "[encoded data removed]",
      "text/plain": [
       "<matplotlib.figure.Figure at 0x1195cd2b0>"
      ]
     },
     "metadata": {},
     "output_type": "display_data"
    }
   ],
   "source": [
    "for contig_id, contig_domains in domains.groupby('contig_id'):\n",
    "    in_cluster = contig_domains.reset_index()['in_cluster']\n",
    "    num_bgcs = count_y_clusters(in_cluster)\n",
    "    title = '{} ({} BGCs)'.format(contig_id, num_bgcs)\n",
    "    ax = in_cluster.plot(figsize=(15, 1), title=title, color='grey', lw=1)\n",
    "    in_cluster.plot(kind='area', ax=ax, color='grey', alpha=0.2)\n",
    "    plt.show()"
   ]
  },
  {
   "cell_type": "markdown",
   "metadata": {
    "collapsed": true
   },
   "source": [
    "## ClusterFinder 75 BGCs in genomic context\n",
    "\n",
    "** Used for: Model validation - TPR evaluation **\n",
    "\n",
    "6 labelled genomes with annotated BGC regions. Remaining regions are not known.\n",
    "\n",
    "75 BGCs are annotated (10 are duplicates found twice, so only 65 are unique)"
   ]
  },
  {
   "cell_type": "code",
   "execution_count": 42,
   "metadata": {},
   "outputs": [
    {
     "data": {
      "text/html": [
       "<div>\n",
       "<style>\n",
       "    .dataframe thead tr:only-child th {\n",
       "        text-align: right;\n",
       "    }\n",
       "\n",
       "    .dataframe thead th {\n",
       "        text-align: left;\n",
       "    }\n",
       "\n",
       "    .dataframe tbody tr th {\n",
       "        vertical-align: top;\n",
       "    }\n",
       "</style>\n",
       "<table border=\"1\" class=\"dataframe\">\n",
       "  <thead>\n",
       "    <tr style=\"text-align: right;\">\n",
       "      <th></th>\n",
       "      <th>Accession</th>\n",
       "      <th>Organism</th>\n",
       "      <th>BGC_start</th>\n",
       "      <th>BGC_stop</th>\n",
       "      <th>Locus_start</th>\n",
       "      <th>Locus_end</th>\n",
       "    </tr>\n",
       "  </thead>\n",
       "  <tbody>\n",
       "    <tr>\n",
       "      <th>0</th>\n",
       "      <td>AM746676.1</td>\n",
       "      <td>Sorangium cellulosum So ce 56</td>\n",
       "      <td>5761328</td>\n",
       "      <td>5853706</td>\n",
       "      <td>sce4132</td>\n",
       "      <td>sce4138</td>\n",
       "    </tr>\n",
       "    <tr>\n",
       "      <th>1</th>\n",
       "      <td>AM746676.1</td>\n",
       "      <td>Sorangium cellulosum So ce 56</td>\n",
       "      <td>4373490</td>\n",
       "      <td>4462891</td>\n",
       "      <td>sce3185</td>\n",
       "      <td>sce3196</td>\n",
       "    </tr>\n",
       "    <tr>\n",
       "      <th>2</th>\n",
       "      <td>AM746676.1</td>\n",
       "      <td>Sorangium cellulosum So ce 56</td>\n",
       "      <td>11484644</td>\n",
       "      <td>11529102</td>\n",
       "      <td>sce8254</td>\n",
       "      <td>sce8262</td>\n",
       "    </tr>\n",
       "    <tr>\n",
       "      <th>3</th>\n",
       "      <td>AM746676.1</td>\n",
       "      <td>Sorangium cellulosum So ce 56</td>\n",
       "      <td>5398169</td>\n",
       "      <td>5418126</td>\n",
       "      <td>sce3879</td>\n",
       "      <td>sce3891</td>\n",
       "    </tr>\n",
       "    <tr>\n",
       "      <th>4</th>\n",
       "      <td>AM746676.1</td>\n",
       "      <td>Sorangium cellulosum So ce 56</td>\n",
       "      <td>1150403</td>\n",
       "      <td>1167578</td>\n",
       "      <td>sce0818</td>\n",
       "      <td>sce0820</td>\n",
       "    </tr>\n",
       "  </tbody>\n",
       "</table>\n",
       "</div>"
      ],
      "text/plain": [
       "    Accession                       Organism  BGC_start  BGC_stop Locus_start  \\\n",
       "0  AM746676.1  Sorangium cellulosum So ce 56    5761328   5853706     sce4132   \n",
       "1  AM746676.1  Sorangium cellulosum So ce 56    4373490   4462891     sce3185   \n",
       "2  AM746676.1  Sorangium cellulosum So ce 56   11484644  11529102     sce8254   \n",
       "3  AM746676.1  Sorangium cellulosum So ce 56    5398169   5418126     sce3879   \n",
       "4  AM746676.1  Sorangium cellulosum So ce 56    1150403   1167578     sce0818   \n",
       "\n",
       "  Locus_end  \n",
       "0   sce4138  \n",
       "1   sce3196  \n",
       "2   sce8262  \n",
       "3   sce3891  \n",
       "4   sce0820  "
      ]
     },
     "execution_count": 42,
     "metadata": {},
     "output_type": "execute_result"
    }
   ],
   "source": [
    "bgc75_locations = pd.read_csv('../data/clusterfinder/74validation/74validation_locations.csv')\n",
    "bgc75_locations.head()"
   ]
  },
  {
   "cell_type": "code",
   "execution_count": 57,
   "metadata": {},
   "outputs": [
    {
     "data": {
      "image/png": "[encoded data removed]",
      "text/plain": [
       "<matplotlib.figure.Figure at 0x11fde5cf8>"
      ]
     },
     "metadata": {},
     "output_type": "display_data"
    }
   ],
   "source": [
    "fig, axes = plt.subplots(len(bgc75_locations['Accession'].unique()), figsize=(8, 8))\n",
    "i = 0\n",
    "for contig_id, contig_bgcs in bgc75_locations.groupby('Accession'):\n",
    "    num_bgcs = len(contig_bgcs)\n",
    "    title = '{} ({} BGCs)'.format(contig_id, num_bgcs)\n",
    "    axes[i].set_title(title)\n",
    "    axes[i].set_ylim([0, 1.2])\n",
    "    for b, bgc in contig_bgcs.iterrows():\n",
    "        axes[i].plot([bgc['BGC_start'], bgc['BGC_stop']], [1, 1], color='grey')\n",
    "        axes[i].fill_between([bgc['BGC_start'], bgc['BGC_stop']], [1, 1], color='grey', alpha=0.3)\n",
    "    i += 1\n",
    "    plt.tight_layout()"
   ]
  },
  {
   "cell_type": "code",
   "execution_count": 44,
   "metadata": {},
   "outputs": [
    {
     "data": {
      "text/html": [
       "<div>\n",
       "<style>\n",
       "    .dataframe thead tr:only-child th {\n",
       "        text-align: right;\n",
       "    }\n",
       "\n",
       "    .dataframe thead th {\n",
       "        text-align: left;\n",
       "    }\n",
       "\n",
       "    .dataframe tbody tr th {\n",
       "        vertical-align: top;\n",
       "    }\n",
       "</style>\n",
       "<table border=\"1\" class=\"dataframe\">\n",
       "  <thead>\n",
       "    <tr style=\"text-align: right;\">\n",
       "      <th></th>\n",
       "      <th>contig_id</th>\n",
       "      <th>locus_tag</th>\n",
       "      <th>protein_id</th>\n",
       "      <th>gene_start</th>\n",
       "      <th>gene_end</th>\n",
       "      <th>gene_strand</th>\n",
       "      <th>pfam_id</th>\n",
       "      <th>domain_start</th>\n",
       "      <th>domain_end</th>\n",
       "      <th>evalue</th>\n",
       "      <th>bitscore</th>\n",
       "    </tr>\n",
       "  </thead>\n",
       "  <tbody>\n",
       "    <tr>\n",
       "      <th>0</th>\n",
       "      <td>NC_007413.1</td>\n",
       "      <td>Ava_0001</td>\n",
       "      <td>YP_320522.1</td>\n",
       "      <td>118</td>\n",
       "      <td>1501</td>\n",
       "      <td>1</td>\n",
       "      <td>PF00308</td>\n",
       "      <td>0</td>\n",
       "      <td>217</td>\n",
       "      <td>9.500000e-91</td>\n",
       "      <td>303.4</td>\n",
       "    </tr>\n",
       "    <tr>\n",
       "      <th>1</th>\n",
       "      <td>NC_007413.1</td>\n",
       "      <td>Ava_0001</td>\n",
       "      <td>YP_320522.1</td>\n",
       "      <td>118</td>\n",
       "      <td>1501</td>\n",
       "      <td>1</td>\n",
       "      <td>PF08299</td>\n",
       "      <td>0</td>\n",
       "      <td>69</td>\n",
       "      <td>2.200000e-29</td>\n",
       "      <td>101.2</td>\n",
       "    </tr>\n",
       "    <tr>\n",
       "      <th>2</th>\n",
       "      <td>NC_007413.1</td>\n",
       "      <td>Ava_0001</td>\n",
       "      <td>YP_320522.1</td>\n",
       "      <td>118</td>\n",
       "      <td>1501</td>\n",
       "      <td>1</td>\n",
       "      <td>PF11638</td>\n",
       "      <td>1</td>\n",
       "      <td>63</td>\n",
       "      <td>1.100000e-16</td>\n",
       "      <td>60.3</td>\n",
       "    </tr>\n",
       "    <tr>\n",
       "      <th>3</th>\n",
       "      <td>NC_007413.1</td>\n",
       "      <td>Ava_0001</td>\n",
       "      <td>YP_320522.1</td>\n",
       "      <td>118</td>\n",
       "      <td>1501</td>\n",
       "      <td>1</td>\n",
       "      <td>PF00004</td>\n",
       "      <td>1</td>\n",
       "      <td>127</td>\n",
       "      <td>5.200000e-04</td>\n",
       "      <td>20.4</td>\n",
       "    </tr>\n",
       "    <tr>\n",
       "      <th>6</th>\n",
       "      <td>NC_007413.1</td>\n",
       "      <td>Ava_0001</td>\n",
       "      <td>YP_320522.1</td>\n",
       "      <td>118</td>\n",
       "      <td>1501</td>\n",
       "      <td>1</td>\n",
       "      <td>PF01695</td>\n",
       "      <td>48</td>\n",
       "      <td>152</td>\n",
       "      <td>1.300000e-11</td>\n",
       "      <td>44.5</td>\n",
       "    </tr>\n",
       "  </tbody>\n",
       "</table>\n",
       "</div>"
      ],
      "text/plain": [
       "     contig_id locus_tag   protein_id  gene_start  gene_end  gene_strand  \\\n",
       "0  NC_007413.1  Ava_0001  YP_320522.1         118      1501            1   \n",
       "1  NC_007413.1  Ava_0001  YP_320522.1         118      1501            1   \n",
       "2  NC_007413.1  Ava_0001  YP_320522.1         118      1501            1   \n",
       "3  NC_007413.1  Ava_0001  YP_320522.1         118      1501            1   \n",
       "6  NC_007413.1  Ava_0001  YP_320522.1         118      1501            1   \n",
       "\n",
       "   pfam_id  domain_start  domain_end        evalue  bitscore  \n",
       "0  PF00308             0         217  9.500000e-91     303.4  \n",
       "1  PF08299             0          69  2.200000e-29     101.2  \n",
       "2  PF11638             1          63  1.100000e-16      60.3  \n",
       "3  PF00004             1         127  5.200000e-04      20.4  \n",
       "6  PF01695            48         152  1.300000e-11      44.5  "
      ]
     },
     "execution_count": 44,
     "metadata": {},
     "output_type": "execute_result"
    }
   ],
   "source": [
    "bgc75_domains = pd.read_csv('../data/clusterfinder/74validation/74validation_domains.csv')\n",
    "bgc75_domains = bgc75_domains[bgc75_domains['evalue'] <= MAX_EVALUE]\n",
    "bgc75_domains.head()"
   ]
  },
  {
   "cell_type": "markdown",
   "metadata": {},
   "source": [
    "# 3k reference genomes\n",
    "\n",
    "3376 bacterial genomes, preprocessed using Prodigal & Pfam Hmmscan."
   ]
  },
  {
   "cell_type": "markdown",
   "metadata": {},
   "source": [
    "## Reference genomes species"
   ]
  },
  {
   "cell_type": "code",
   "execution_count": 10,
   "metadata": {},
   "outputs": [
    {
     "data": {
      "text/html": [
       "<div>\n",
       "<style>\n",
       "    .dataframe thead tr:only-child th {\n",
       "        text-align: right;\n",
       "    }\n",
       "\n",
       "    .dataframe thead th {\n",
       "        text-align: left;\n",
       "    }\n",
       "\n",
       "    .dataframe tbody tr th {\n",
       "        vertical-align: top;\n",
       "    }\n",
       "</style>\n",
       "<table border=\"1\" class=\"dataframe\">\n",
       "  <thead>\n",
       "    <tr style=\"text-align: right;\">\n",
       "      <th></th>\n",
       "      <th>species</th>\n",
       "      <th>family</th>\n",
       "      <th>subspecies</th>\n",
       "    </tr>\n",
       "    <tr>\n",
       "      <th>contig_id</th>\n",
       "      <th></th>\n",
       "      <th></th>\n",
       "      <th></th>\n",
       "    </tr>\n",
       "  </thead>\n",
       "  <tbody>\n",
       "    <tr>\n",
       "      <th>AE000511.1</th>\n",
       "      <td>Helicobacter_pylori_26695</td>\n",
       "      <td>Helicobacter</td>\n",
       "      <td>Helicobacter pylori</td>\n",
       "    </tr>\n",
       "    <tr>\n",
       "      <th>AE000512.1</th>\n",
       "      <td>Thermotoga_maritima_MSB8</td>\n",
       "      <td>Thermotoga</td>\n",
       "      <td>Thermotoga maritima</td>\n",
       "    </tr>\n",
       "    <tr>\n",
       "      <th>AE000516.2</th>\n",
       "      <td>Mycobacterium_tuberculosis_CDC1551</td>\n",
       "      <td>Mycobacterium</td>\n",
       "      <td>Mycobacterium tuberculosis</td>\n",
       "    </tr>\n",
       "    <tr>\n",
       "      <th>AE000520.1</th>\n",
       "      <td>Treponema_pallidum_subsp._pallidum_str._Nichol...</td>\n",
       "      <td>Treponema</td>\n",
       "      <td>Treponema pallidum</td>\n",
       "    </tr>\n",
       "    <tr>\n",
       "      <th>AE000657.1</th>\n",
       "      <td>Aquifex_aeolicus_VF5</td>\n",
       "      <td>Aquifex</td>\n",
       "      <td>Aquifex aeolicus</td>\n",
       "    </tr>\n",
       "  </tbody>\n",
       "</table>\n",
       "</div>"
      ],
      "text/plain": [
       "                                                      species         family  \\\n",
       "contig_id                                                                      \n",
       "AE000511.1                          Helicobacter_pylori_26695   Helicobacter   \n",
       "AE000512.1                           Thermotoga_maritima_MSB8     Thermotoga   \n",
       "AE000516.2                 Mycobacterium_tuberculosis_CDC1551  Mycobacterium   \n",
       "AE000520.1  Treponema_pallidum_subsp._pallidum_str._Nichol...      Treponema   \n",
       "AE000657.1                               Aquifex_aeolicus_VF5        Aquifex   \n",
       "\n",
       "                            subspecies  \n",
       "contig_id                               \n",
       "AE000511.1         Helicobacter pylori  \n",
       "AE000512.1         Thermotoga maritima  \n",
       "AE000516.2  Mycobacterium tuberculosis  \n",
       "AE000520.1          Treponema pallidum  \n",
       "AE000657.1            Aquifex aeolicus  "
      ]
     },
     "execution_count": 10,
     "metadata": {},
     "output_type": "execute_result"
    }
   ],
   "source": [
    "bac_species = pd.read_csv('../data/bacteria/species.tsv', sep='\\t').set_index('contig_id')\n",
    "bac_species['family'] = bac_species['species'].apply(lambda species: species.split('_')[0])\n",
    "bac_species['subspecies'] = bac_species['species'].apply(lambda species: ' '.join(species.split('_')[:2]))\n",
    "bac_species.head()"
   ]
  },
  {
   "cell_type": "code",
   "execution_count": 11,
   "metadata": {},
   "outputs": [
    {
     "name": "stdout",
     "output_type": "stream",
     "text": [
      "Unique families: 654\n"
     ]
    },
    {
     "data": {
      "text/plain": [
       "Salmonella         175\n",
       "Bacillus           168\n",
       "Streptococcus      135\n",
       "Escherichia         98\n",
       "Mycobacterium       97\n",
       "Candidatus          90\n",
       "Pseudomonas         87\n",
       "Staphylococcus      85\n",
       "Helicobacter        84\n",
       "Corynebacterium     79\n",
       "Chlamydia           75\n",
       "Mycoplasma          75\n",
       "Lactobacillus       67\n",
       "Bifidobacterium     55\n",
       "Clostridium         55\n",
       "Campylobacter       54\n",
       "Yersinia            51\n",
       "Listeria            46\n",
       "Rickettsia          44\n",
       "Xanthomonas         38\n",
       "Name: family, dtype: int64"
      ]
     },
     "execution_count": 11,
     "metadata": {},
     "output_type": "execute_result"
    }
   ],
   "source": [
    "bac_families_top = bac_species['family'].value_counts()[:20]\n",
    "print('Unique families:', len(bac_species['family'].unique()))\n",
    "bac_families_top"
   ]
  },
  {
   "cell_type": "code",
   "execution_count": 12,
   "metadata": {},
   "outputs": [
    {
     "name": "stdout",
     "output_type": "stream",
     "text": [
      "Unique species: 1442\n"
     ]
    },
    {
     "data": {
      "text/plain": [
       "Salmonella enterica           172\n",
       "Escherichia coli               96\n",
       "Helicobacter pylori            76\n",
       "Staphylococcus aureus          68\n",
       "Chlamydia trachomatis          45\n",
       "Listeria monocytogenes         38\n",
       "Mycobacterium tuberculosis     36\n",
       "Bacillus anthracis             31\n",
       "Klebsiella pneumoniae          28\n",
       "Yersinia pestis                27\n",
       "Bacillus subtilis              27\n",
       "Campylobacter jejuni           26\n",
       "Streptococcus pyogenes         26\n",
       "Bacillus cereus                25\n",
       "Acinetobacter baumannii        25\n",
       "Francisella tularensis         25\n",
       "Pseudomonas aeruginosa         22\n",
       "Bacillus thuringiensis         22\n",
       "Neisseria meningitidis         21\n",
       "Xanthomonas citri              20\n",
       "Name: subspecies, dtype: int64"
      ]
     },
     "execution_count": 12,
     "metadata": {},
     "output_type": "execute_result"
    }
   ],
   "source": [
    "bac_species_top = bac_species['subspecies'].value_counts()[:20]\n",
    "print('Unique species:', len(bac_species['subspecies'].unique()))\n",
    "bac_species_top"
   ]
  },
  {
   "cell_type": "markdown",
   "metadata": {},
   "source": [
    "## Reference genomes domains\n",
    "\n",
    "** Used for: Pfam2vec corpus generation, Novel BGC candidate prediction **\n",
    "\n",
    "Domain CSV files, one for each bacteria."
   ]
  },
  {
   "cell_type": "code",
   "execution_count": 90,
   "metadata": {},
   "outputs": [
    {
     "data": {
      "text/html": [
       "<div>\n",
       "<style>\n",
       "    .dataframe thead tr:only-child th {\n",
       "        text-align: right;\n",
       "    }\n",
       "\n",
       "    .dataframe thead th {\n",
       "        text-align: left;\n",
       "    }\n",
       "\n",
       "    .dataframe tbody tr th {\n",
       "        vertical-align: top;\n",
       "    }\n",
       "</style>\n",
       "<table border=\"1\" class=\"dataframe\">\n",
       "  <thead>\n",
       "    <tr style=\"text-align: right;\">\n",
       "      <th></th>\n",
       "      <th>protein_id</th>\n",
       "      <th>gene_start</th>\n",
       "      <th>gene_end</th>\n",
       "      <th>gene_strand</th>\n",
       "      <th>pfam_id</th>\n",
       "      <th>domain_start</th>\n",
       "      <th>domain_end</th>\n",
       "      <th>evalue</th>\n",
       "      <th>bitscore</th>\n",
       "    </tr>\n",
       "  </thead>\n",
       "  <tbody>\n",
       "    <tr>\n",
       "      <th>0</th>\n",
       "      <td>AE000511_1</td>\n",
       "      <td>217</td>\n",
       "      <td>633</td>\n",
       "      <td>-1</td>\n",
       "      <td>PF01029</td>\n",
       "      <td>1</td>\n",
       "      <td>133</td>\n",
       "      <td>1.500000e-29</td>\n",
       "      <td>102.9</td>\n",
       "    </tr>\n",
       "    <tr>\n",
       "      <th>1</th>\n",
       "      <td>AE000511_1</td>\n",
       "      <td>217</td>\n",
       "      <td>633</td>\n",
       "      <td>-1</td>\n",
       "      <td>PF11929</td>\n",
       "      <td>16</td>\n",
       "      <td>33</td>\n",
       "      <td>1.000000e+01</td>\n",
       "      <td>6.1</td>\n",
       "    </tr>\n",
       "    <tr>\n",
       "      <th>2</th>\n",
       "      <td>AE000511_2</td>\n",
       "      <td>635</td>\n",
       "      <td>1105</td>\n",
       "      <td>-1</td>\n",
       "      <td>PF00885</td>\n",
       "      <td>2</td>\n",
       "      <td>139</td>\n",
       "      <td>2.700000e-49</td>\n",
       "      <td>166.5</td>\n",
       "    </tr>\n",
       "    <tr>\n",
       "      <th>3</th>\n",
       "      <td>AE000511_3</td>\n",
       "      <td>1115</td>\n",
       "      <td>1945</td>\n",
       "      <td>-1</td>\n",
       "      <td>PF00793</td>\n",
       "      <td>16</td>\n",
       "      <td>263</td>\n",
       "      <td>4.000000e-62</td>\n",
       "      <td>209.5</td>\n",
       "    </tr>\n",
       "    <tr>\n",
       "      <th>4</th>\n",
       "      <td>AE000511_4</td>\n",
       "      <td>1932</td>\n",
       "      <td>2597</td>\n",
       "      <td>-1</td>\n",
       "      <td>PF00484</td>\n",
       "      <td>0</td>\n",
       "      <td>156</td>\n",
       "      <td>1.300000e-43</td>\n",
       "      <td>148.8</td>\n",
       "    </tr>\n",
       "  </tbody>\n",
       "</table>\n",
       "</div>"
      ],
      "text/plain": [
       "   protein_id  gene_start  gene_end  gene_strand  pfam_id  domain_start  \\\n",
       "0  AE000511_1         217       633           -1  PF01029             1   \n",
       "1  AE000511_1         217       633           -1  PF11929            16   \n",
       "2  AE000511_2         635      1105           -1  PF00885             2   \n",
       "3  AE000511_3        1115      1945           -1  PF00793            16   \n",
       "4  AE000511_4        1932      2597           -1  PF00484             0   \n",
       "\n",
       "   domain_end        evalue  bitscore  \n",
       "0         133  1.500000e-29     102.9  \n",
       "1          33  1.000000e+01       6.1  \n",
       "2         139  2.700000e-49     166.5  \n",
       "3         263  4.000000e-62     209.5  \n",
       "4         156  1.300000e-43     148.8  "
      ]
     },
     "execution_count": 90,
     "metadata": {},
     "output_type": "execute_result"
    }
   ],
   "source": [
    "bac_domains = pd.read_csv('../data/bacteria/domains/AE000511.1.domains.csv', nrows=10)\n",
    "bac_domains.head()"
   ]
  },
  {
   "cell_type": "markdown",
   "metadata": {},
   "source": [
    "## Reference genomes pfam corpus\n",
    "\n",
    "** Used for: Pfam2vec training **\n",
    "\n",
    "Corpus of 23,425,967 pfams domains (words) used to train the pfam2vec embedding using the word2vec algorithm.\n",
    "\n",
    "Corpus contains pfam domains from one bacteria per line, separated by space."
   ]
  },
  {
   "cell_type": "code",
   "execution_count": 62,
   "metadata": {},
   "outputs": [
    {
     "data": {
      "text/html": [
       "<div>\n",
       "<style>\n",
       "    .dataframe thead tr:only-child th {\n",
       "        text-align: right;\n",
       "    }\n",
       "\n",
       "    .dataframe thead th {\n",
       "        text-align: left;\n",
       "    }\n",
       "\n",
       "    .dataframe tbody tr th {\n",
       "        vertical-align: top;\n",
       "    }\n",
       "</style>\n",
       "<table border=\"1\" class=\"dataframe\">\n",
       "  <thead>\n",
       "    <tr style=\"text-align: right;\">\n",
       "      <th></th>\n",
       "      <th>0</th>\n",
       "    </tr>\n",
       "  </thead>\n",
       "  <tbody>\n",
       "    <tr>\n",
       "      <th>0</th>\n",
       "      <td>PF01029 PF00885 PF00793 PF00484 PF00215 PF0256...</td>\n",
       "    </tr>\n",
       "    <tr>\n",
       "      <th>1</th>\n",
       "      <td>PF13087 PF13245 PF13086 PF13604 PF13401 PF1337...</td>\n",
       "    </tr>\n",
       "    <tr>\n",
       "      <th>2</th>\n",
       "      <td>PF00308 PF00004 PF08299 PF01695 PF02768 PF0071...</td>\n",
       "    </tr>\n",
       "    <tr>\n",
       "      <th>3</th>\n",
       "      <td>PF00308 PF08299 PF00004 PF00910 PF11638 PF1317...</td>\n",
       "    </tr>\n",
       "    <tr>\n",
       "      <th>4</th>\n",
       "      <td>PF03764 PF14492 PF00679 PF03144 PF00009 PF1665...</td>\n",
       "    </tr>\n",
       "  </tbody>\n",
       "</table>\n",
       "</div>"
      ],
      "text/plain": [
       "                                                   0\n",
       "0  PF01029 PF00885 PF00793 PF00484 PF00215 PF0256...\n",
       "1  PF13087 PF13245 PF13086 PF13604 PF13401 PF1337...\n",
       "2  PF00308 PF00004 PF08299 PF01695 PF02768 PF0071...\n",
       "3  PF00308 PF08299 PF00004 PF00910 PF11638 PF1317...\n",
       "4  PF03764 PF14492 PF00679 PF03144 PF00009 PF1665..."
      ]
     },
     "execution_count": 62,
     "metadata": {},
     "output_type": "execute_result"
    }
   ],
   "source": [
    "corpus = pd.read_csv('../data/bacteria/corpus/corpus-1e-02.txt', nrows=10, header=None)\n",
    "corpus.head()"
   ]
  },
  {
   "cell_type": "code",
   "execution_count": 70,
   "metadata": {},
   "outputs": [
    {
     "data": {
      "text/plain": [
       "<matplotlib.axes._subplots.AxesSubplot at 0x126d17358>"
      ]
     },
     "execution_count": 70,
     "metadata": {},
     "output_type": "execute_result"
    },
    {
     "data": {
      "image/png": "[encoded data removed]",
      "text/plain": [
       "<matplotlib.figure.Figure at 0x126d16c18>"
      ]
     },
     "metadata": {},
     "output_type": "display_data"
    }
   ],
   "source": [
    "corpus_counts = pd.read_csv('../data/bacteria/corpus/corpus-1e-02.counts.csv').set_index('pfam_id')\n",
    "corpus_counts[:10][::-1].plot.barh()"
   ]
  },
  {
   "cell_type": "markdown",
   "metadata": {},
   "source": [
    "The pfam counts have a very long-tail distribution with a median of only 101 occurences."
   ]
  },
  {
   "cell_type": "code",
   "execution_count": 86,
   "metadata": {},
   "outputs": [
    {
     "name": "stdout",
     "output_type": "stream",
     "text": [
      "               count\n",
      "count   15686.000000\n",
      "mean     1493.431531\n",
      "std      6263.235835\n",
      "min         1.000000\n",
      "25%        10.000000\n",
      "50%       101.000000\n",
      "75%       647.000000\n",
      "max    228268.000000\n"
     ]
    },
    {
     "data": {
      "image/png": "[encoded data removed]",
      "text/plain": [
       "<matplotlib.figure.Figure at 0x11d219a90>"
      ]
     },
     "metadata": {},
     "output_type": "display_data"
    }
   ],
   "source": [
    "corpus_counts.plot.hist(bins=100)\n",
    "print(corpus_counts.describe())"
   ]
  },
  {
   "cell_type": "code",
   "execution_count": null,
   "metadata": {
    "collapsed": true
   },
   "outputs": [],
   "source": []
  }
 ],
 "metadata": {
  "kernelspec": {
   "display_name": "Python 3",
   "language": "python",
   "name": "python3"
  },
  "language_info": {
   "codemirror_mode": {
    "name": "ipython",
    "version": 3
   },
   "file_extension": ".py",
   "mimetype": "text/x-python",
   "name": "python",
   "nbconvert_exporter": "python",
   "pygments_lexer": "ipython3",
   "version": "3.6.3"
  }
 },
 "nbformat": 4,
 "nbformat_minor": 2
}
